{
 "cells": [
  {
   "cell_type": "code",
   "execution_count": 228,
   "id": "d4f72143",
   "metadata": {},
   "outputs": [],
   "source": [
    "#!pip install camel-tools\n",
    "#!pip install nltk\n",
    "#!pip install emoji\n",
    "#!pip install regex\n",
    "#!pip install advertools\n",
    "#!pip install translate\n",
    "#!pip install textblob\n",
    "#!pip install spacy-langdetect\n",
    "#!pip install langid"
   ]
  },
  {
   "cell_type": "code",
   "execution_count": 774,
   "id": "c106cbf3",
   "metadata": {},
   "outputs": [
    {
     "name": "stderr",
     "output_type": "stream",
     "text": [
      "[nltk_data] Downloading package punkt to /Users/maha/nltk_data...\n",
      "[nltk_data]   Package punkt is already up-to-date!\n",
      "[nltk_data] Downloading package stopwords to /Users/maha/nltk_data...\n",
      "[nltk_data]   Package stopwords is already up-to-date!\n"
     ]
    }
   ],
   "source": [
    "import pandas as pd\n",
    "import re\n",
    "import string\n",
    "import spacy\n",
    "import camel_tools\n",
    "import nltk\n",
    "nltk.download('punkt')\n",
    "import emoji\n",
    "import regex\n",
    "import advertools as adv\n",
    "import matplotlib.pyplot as plt\n",
    "from nltk.corpus import stopwords\n",
    "nltk.download('stopwords')\n",
    "from sklearn import metrics"
   ]
  },
  {
   "cell_type": "code",
   "execution_count": 625,
   "id": "76415d70",
   "metadata": {},
   "outputs": [],
   "source": [
    "#helper functions\n",
    "\n",
    "def tokenize_word(text):\n",
    "    \"\"\"\n",
    "    This function separate a sentence into s list of words using nltk library\n",
    "    \"\"\"\n",
    "    \n",
    "    text=str(text)\n",
    "    return nltk.word_tokenize(text)\n",
    "    \n",
    "\n",
    "    \n",
    "def emoji_count(text):\n",
    "    \"\"\"\n",
    "    This funtion counts number of emojies in a text\n",
    "    \"\"\"\n",
    "    \n",
    "    text=[str(text)]\n",
    "    emoji_summary = adv.extract_emoji(text)\n",
    "    return emoji_summary['emoji_counts'][0]\n",
    "\n",
    "\n",
    "\n",
    "\n",
    "def convert_emoji_to_text(text):\n",
    "    \"\"\"\n",
    "    This function converts emojies to texts using demojize \n",
    "    \"\"\"\n",
    "    \n",
    "    text=str(text)\n",
    "    return emoji.demojize(text, delimiters=(\" \", \" \"))\n",
    "\n",
    "\n",
    "\n",
    "\n",
    "def change_emoji_description(mylist):\n",
    "    \"\"\"\n",
    "    This function changes emojies description to one arabic word \"ايموجي\"\n",
    "    \"\"\"\n",
    "    \n",
    "    mylist=mylist.split(' ')\n",
    "    for i,word in enumerate(mylist):\n",
    "        if(any(c.islower() for c in word)):\n",
    "            mylist[i]='ايموجي'\n",
    "    return ' '.join(mylist)\n",
    "\n",
    "\n",
    "\n",
    "def remove_stop_word(mylist):\n",
    "    \"\"\"\n",
    "    This function removes arabic stop words from texts\n",
    "    \"\"\"\n",
    "    \n",
    "    stop_words=stopwords.words('arabic')\n",
    "    mylist=mylist.split(' ')\n",
    "    for i, val in enumerate(mylist):\n",
    "        if(val in stop_words):\n",
    "               mylist.remove(val)\n",
    "    return ' '.join(mylist)\n",
    "\n",
    "\n",
    "\n",
    "def remove_numbers_and_latin_chars(text):\n",
    "    \"\"\"\n",
    "    This function removes any non arabic letters from texts\n",
    "    \"\"\"\n",
    "    \n",
    "    pattern = r'[a-z A-Z 0-9 ﷺ ٠١٢٣٤٥٦٧٨٩ .: ⃣◈!@#\\➘✓ /$%^&*()_+;={,-/|?><~\"}]'\n",
    "    new_text=re.sub(pattern, ' ',  str(text))\n",
    "    return new_text\n",
    "\n",
    "def count_repeated(type):\n",
    "    if(type==4):\n",
    "        return 1\n",
    "    else:\n",
    "        return 0"
   ]
  },
  {
   "cell_type": "code",
   "execution_count": 626,
   "id": "38dedae6",
   "metadata": {},
   "outputs": [
    {
     "data": {
      "text/html": [
       "<div>\n",
       "<style scoped>\n",
       "    .dataframe tbody tr th:only-of-type {\n",
       "        vertical-align: middle;\n",
       "    }\n",
       "\n",
       "    .dataframe tbody tr th {\n",
       "        vertical-align: top;\n",
       "    }\n",
       "\n",
       "    .dataframe thead th {\n",
       "        text-align: right;\n",
       "    }\n",
       "</style>\n",
       "<table border=\"1\" class=\"dataframe\">\n",
       "  <thead>\n",
       "    <tr style=\"text-align: right;\">\n",
       "      <th></th>\n",
       "      <th>Tweet</th>\n",
       "      <th>Type</th>\n",
       "    </tr>\n",
       "  </thead>\n",
       "  <tbody>\n",
       "    <tr>\n",
       "      <th>0</th>\n",
       "      <td>السلام عليكم لدي عامل انتهي جواز السفر وتم تجد...</td>\n",
       "      <td>1.0</td>\n",
       "    </tr>\n",
       "    <tr>\n",
       "      <th>1</th>\n",
       "      <td>سلام عليكم عندي اضافه مولود ولما ادخل ابشر واض...</td>\n",
       "      <td>1.0</td>\n",
       "    </tr>\n",
       "    <tr>\n",
       "      <th>2</th>\n",
       "      <td>عفوا موقع ابشر لما اضغط ع تسجيل مواليد يقولي ل...</td>\n",
       "      <td>1.0</td>\n",
       "    </tr>\n",
       "  </tbody>\n",
       "</table>\n",
       "</div>"
      ],
      "text/plain": [
       "                                               Tweet  Type\n",
       "0  السلام عليكم لدي عامل انتهي جواز السفر وتم تجد...   1.0\n",
       "1  سلام عليكم عندي اضافه مولود ولما ادخل ابشر واض...   1.0\n",
       "2  عفوا موقع ابشر لما اضغط ع تسجيل مواليد يقولي ل...   1.0"
      ]
     },
     "execution_count": 626,
     "metadata": {},
     "output_type": "execute_result"
    }
   ],
   "source": [
    "df=pd.read_csv(\"Labeled_Tweets.csv\")\n",
    "df.head(3)"
   ]
  },
  {
   "cell_type": "markdown",
   "id": "d7d3d9d7",
   "metadata": {},
   "source": [
    "## Data to work on consists of tweets which are mentions to @Tawakkalna_Care customer service account on twitter, and a categorization of tweet into 5 types:\n",
    "    \n",
    "    Noise    |  0\n",
    "    Question |  1\n",
    "    Answer   |  2\n",
    "    Comment  |  3\n",
    "    Repeated |  4"
   ]
  },
  {
   "cell_type": "code",
   "execution_count": 627,
   "id": "713092e7",
   "metadata": {},
   "outputs": [
    {
     "data": {
      "text/plain": [
       "<AxesSubplot:>"
      ]
     },
     "execution_count": 627,
     "metadata": {},
     "output_type": "execute_result"
    },
    {
     "data": {
      "image/png": "[encoded data removed]",
      "text/plain": [
       "<Figure size 432x288 with 1 Axes>"
      ]
     },
     "metadata": {
      "needs_background": "light"
     },
     "output_type": "display_data"
    }
   ],
   "source": [
    "df['Type'].hist()"
   ]
  },
  {
   "cell_type": "code",
   "execution_count": 628,
   "id": "3880f8a8",
   "metadata": {},
   "outputs": [
    {
     "data": {
      "text/plain": [
       "1.0    919\n",
       "2.0    632\n",
       "0.0    543\n",
       "4.0    245\n",
       "3.0    238\n",
       "Name: Type, dtype: int64"
      ]
     },
     "execution_count": 628,
     "metadata": {},
     "output_type": "execute_result"
    }
   ],
   "source": [
    "df.Type.value_counts()"
   ]
  },
  {
   "cell_type": "code",
   "execution_count": 629,
   "id": "7c93737e",
   "metadata": {},
   "outputs": [
    {
     "data": {
      "image/png": "[encoded data removed]",
      "text/plain": [
       "<Figure size 432x288 with 1 Axes>"
      ]
     },
     "metadata": {},
     "output_type": "display_data"
    }
   ],
   "source": [
    "import matplotlib.pyplot as plt\n",
    "import numpy as np\n",
    "\n",
    "y = np.array(df.Type.value_counts())\n",
    "mylabels = [\"1 | Question\",\"2 | Answer\",\"0 | Noise\", \"4 | Repeated\", \"3 | Comment\"]\n",
    "\n",
    "plt.pie(y,  labels=mylabels,startangle = 90)\n",
    "#plt.legend()\n",
    "plt.show()"
   ]
  },
  {
   "cell_type": "markdown",
   "id": "d29eb245",
   "metadata": {},
   "source": [
    "count number of emojies in each tweet and store it in a new column "
   ]
  },
  {
   "cell_type": "code",
   "execution_count": 630,
   "id": "d9b5f4a0",
   "metadata": {},
   "outputs": [],
   "source": [
    "df['emoji']=df['Tweet'].apply(emoji_count)"
   ]
  },
  {
   "cell_type": "code",
   "execution_count": 631,
   "id": "b844f342",
   "metadata": {},
   "outputs": [
    {
     "data": {
      "text/plain": [
       "0     2132\n",
       "1      131\n",
       "4       97\n",
       "2       94\n",
       "10      31\n",
       "6       25\n",
       "3       25\n",
       "9       21\n",
       "5        8\n",
       "8        5\n",
       "7        5\n",
       "12       2\n",
       "16       2\n",
       "Name: emoji, dtype: int64"
      ]
     },
     "execution_count": 631,
     "metadata": {},
     "output_type": "execute_result"
    }
   ],
   "source": [
    "df['emoji'].value_counts()"
   ]
  },
  {
   "cell_type": "markdown",
   "id": "23504575",
   "metadata": {},
   "source": [
    "see distrubtion of tweets types having one emoji at most"
   ]
  },
  {
   "cell_type": "code",
   "execution_count": 632,
   "id": "94a9c240",
   "metadata": {},
   "outputs": [
    {
     "data": {
      "text/plain": [
       "1.0    917\n",
       "2.0    631\n",
       "0.0    344\n",
       "3.0    232\n",
       "4.0    139\n",
       "Name: Type, dtype: int64"
      ]
     },
     "execution_count": 632,
     "metadata": {},
     "output_type": "execute_result"
    }
   ],
   "source": [
    "tweets_without_emoji=df.loc[df['emoji']<2]\n",
    "tweets_without_emoji['Type'].value_counts()"
   ]
  },
  {
   "cell_type": "code",
   "execution_count": 633,
   "id": "2e6b64c6",
   "metadata": {},
   "outputs": [
    {
     "data": {
      "text/plain": [
       "([<matplotlib.axis.XTick at 0x7fca5e057190>,\n",
       "  <matplotlib.axis.XTick at 0x7fca5e057160>,\n",
       "  <matplotlib.axis.XTick at 0x7fca5e04cdc0>,\n",
       "  <matplotlib.axis.XTick at 0x7fca5fbaad60>,\n",
       "  <matplotlib.axis.XTick at 0x7fca5fbb14f0>],\n",
       " [Text(0, 0, ''),\n",
       "  Text(0, 0, ''),\n",
       "  Text(0, 0, ''),\n",
       "  Text(0, 0, ''),\n",
       "  Text(0, 0, '')])"
      ]
     },
     "execution_count": 633,
     "metadata": {},
     "output_type": "execute_result"
    },
    {
     "data": {
      "image/png": "[encoded data removed]",
      "text/plain": [
       "<Figure size 432x288 with 1 Axes>"
      ]
     },
     "metadata": {
      "needs_background": "light"
     },
     "output_type": "display_data"
    }
   ],
   "source": [
    "plt.hist(tweets_without_emoji['Type'])\n",
    "plt.xlabel('Tweet Type')\n",
    "plt.ylabel('Tweets With One or Zero Emoji')\n",
    "plt.xticks([0,1,2,3,4])"
   ]
  },
  {
   "cell_type": "markdown",
   "id": "ecd6bde9",
   "metadata": {},
   "source": [
    "see distrubtion of tweets types having 2 emojies or more"
   ]
  },
  {
   "cell_type": "code",
   "execution_count": 634,
   "id": "567a1d80",
   "metadata": {},
   "outputs": [
    {
     "data": {
      "text/plain": [
       "0.0    199\n",
       "4.0    106\n",
       "3.0      6\n",
       "1.0      2\n",
       "2.0      1\n",
       "Name: Type, dtype: int64"
      ]
     },
     "execution_count": 634,
     "metadata": {},
     "output_type": "execute_result"
    }
   ],
   "source": [
    "tweets_with_emoji=df.loc[df['emoji']>1]\n",
    "tweets_with_emoji['Type'].value_counts()"
   ]
  },
  {
   "cell_type": "code",
   "execution_count": 635,
   "id": "eedccfc2",
   "metadata": {},
   "outputs": [
    {
     "data": {
      "text/plain": [
       "([<matplotlib.axis.XTick at 0x7fca5fbc7c40>,\n",
       "  <matplotlib.axis.XTick at 0x7fca5fbc7c10>,\n",
       "  <matplotlib.axis.XTick at 0x7fca5fbc72e0>,\n",
       "  <matplotlib.axis.XTick at 0x7fca7578c9a0>,\n",
       "  <matplotlib.axis.XTick at 0x7fca7578c430>],\n",
       " [Text(0, 0, ''),\n",
       "  Text(0, 0, ''),\n",
       "  Text(0, 0, ''),\n",
       "  Text(0, 0, ''),\n",
       "  Text(0, 0, '')])"
      ]
     },
     "execution_count": 635,
     "metadata": {},
     "output_type": "execute_result"
    },
    {
     "data": {
      "image/png": "[encoded data removed]",
      "text/plain": [
       "<Figure size 432x288 with 1 Axes>"
      ]
     },
     "metadata": {
      "needs_background": "light"
     },
     "output_type": "display_data"
    }
   ],
   "source": [
    "plt.hist(tweets_with_emoji['Type'])\n",
    "plt.xlabel('Tweet Type')\n",
    "plt.ylabel('Tweets With More Than One Emoji')\n",
    "plt.xticks([0,1,2,3,4])"
   ]
  },
  {
   "cell_type": "markdown",
   "id": "49d96e0f",
   "metadata": {},
   "source": [
    "### most tweets that have emojis are of category = 1 which is 'noise' so the information of emoji is helpful in classification thus should not be removed, instead we will put the word explaining them"
   ]
  },
  {
   "cell_type": "markdown",
   "id": "8f4dabaa",
   "metadata": {},
   "source": [
    "start executing helper functions on tweets to clean them"
   ]
  },
  {
   "cell_type": "code",
   "execution_count": 708,
   "id": "cd4f3f58",
   "metadata": {},
   "outputs": [],
   "source": [
    "df['Cleaned_Tweet']=df['Tweet'].apply(remove_numbers_and_latin_chars)"
   ]
  },
  {
   "cell_type": "code",
   "execution_count": 709,
   "id": "cefe6b18",
   "metadata": {},
   "outputs": [],
   "source": [
    "df['Cleaned_Tweet']=df['Cleaned_Tweet'].apply(convert_emoji_to_text)"
   ]
  },
  {
   "cell_type": "markdown",
   "id": "c7aaf935",
   "metadata": {},
   "source": [
    "Now we will translate each english word that is result from emoji description to the word \"ايموجي\" "
   ]
  },
  {
   "cell_type": "code",
   "execution_count": 710,
   "id": "2fb3dfec",
   "metadata": {},
   "outputs": [],
   "source": [
    "df['Translated_Tweets']=df['Cleaned_Tweet'].apply(change_emoji_description)"
   ]
  },
  {
   "cell_type": "code",
   "execution_count": 711,
   "id": "44de874f",
   "metadata": {},
   "outputs": [],
   "source": [
    "df['Cleaned_Tweet_No_Stop_words']=df['Translated_Tweets'].apply(remove_stop_word)"
   ]
  },
  {
   "cell_type": "code",
   "execution_count": 712,
   "id": "6c2a3c58",
   "metadata": {},
   "outputs": [
    {
     "data": {
      "text/html": [
       "<div>\n",
       "<style scoped>\n",
       "    .dataframe tbody tr th:only-of-type {\n",
       "        vertical-align: middle;\n",
       "    }\n",
       "\n",
       "    .dataframe tbody tr th {\n",
       "        vertical-align: top;\n",
       "    }\n",
       "\n",
       "    .dataframe thead th {\n",
       "        text-align: right;\n",
       "    }\n",
       "</style>\n",
       "<table border=\"1\" class=\"dataframe\">\n",
       "  <thead>\n",
       "    <tr style=\"text-align: right;\">\n",
       "      <th></th>\n",
       "      <th>Tweet</th>\n",
       "      <th>Type</th>\n",
       "      <th>emoji</th>\n",
       "      <th>Cleaned_Tweet</th>\n",
       "      <th>Translated_Tweets</th>\n",
       "      <th>Cleaned_Tweet_No_Stop_words</th>\n",
       "      <th>repeated</th>\n",
       "    </tr>\n",
       "  </thead>\n",
       "  <tbody>\n",
       "    <tr>\n",
       "      <th>0</th>\n",
       "      <td>السلام عليكم لدي عامل انتهي جواز السفر وتم تجد...</td>\n",
       "      <td>1.0</td>\n",
       "      <td>0</td>\n",
       "      <td>السلام عليكم لدي عامل انتهي جواز السفر وتم تجد...</td>\n",
       "      <td>السلام عليكم لدي عامل انتهي جواز السفر وتم تجد...</td>\n",
       "      <td>السلام عليكم لدي عامل انتهي جواز السفر وتم تجد...</td>\n",
       "      <td>0</td>\n",
       "    </tr>\n",
       "    <tr>\n",
       "      <th>1</th>\n",
       "      <td>سلام عليكم عندي اضافه مولود ولما ادخل ابشر واض...</td>\n",
       "      <td>1.0</td>\n",
       "      <td>0</td>\n",
       "      <td>سلام عليكم عندي اضافه مولود ولما ادخل ابشر واض...</td>\n",
       "      <td>سلام عليكم عندي اضافه مولود ولما ادخل ابشر واض...</td>\n",
       "      <td>سلام عليكم عندي اضافه مولود ولما ادخل ابشر واض...</td>\n",
       "      <td>0</td>\n",
       "    </tr>\n",
       "  </tbody>\n",
       "</table>\n",
       "</div>"
      ],
      "text/plain": [
       "                                               Tweet  Type  emoji  \\\n",
       "0  السلام عليكم لدي عامل انتهي جواز السفر وتم تجد...   1.0      0   \n",
       "1  سلام عليكم عندي اضافه مولود ولما ادخل ابشر واض...   1.0      0   \n",
       "\n",
       "                                       Cleaned_Tweet  \\\n",
       "0  السلام عليكم لدي عامل انتهي جواز السفر وتم تجد...   \n",
       "1  سلام عليكم عندي اضافه مولود ولما ادخل ابشر واض...   \n",
       "\n",
       "                                   Translated_Tweets  \\\n",
       "0  السلام عليكم لدي عامل انتهي جواز السفر وتم تجد...   \n",
       "1  سلام عليكم عندي اضافه مولود ولما ادخل ابشر واض...   \n",
       "\n",
       "                         Cleaned_Tweet_No_Stop_words  repeated  \n",
       "0  السلام عليكم لدي عامل انتهي جواز السفر وتم تجد...         0  \n",
       "1  سلام عليكم عندي اضافه مولود ولما ادخل ابشر واض...         0  "
      ]
     },
     "execution_count": 712,
     "metadata": {},
     "output_type": "execute_result"
    }
   ],
   "source": [
    "df.head(2)"
   ]
  },
  {
   "cell_type": "markdown",
   "id": "39f8cca3",
   "metadata": {},
   "source": [
    "In below part, if a tweet is repeated(type=4), insert 1 in the 'repeated' column, else insert 0"
   ]
  },
  {
   "cell_type": "code",
   "execution_count": 713,
   "id": "248c67f5",
   "metadata": {},
   "outputs": [
    {
     "data": {
      "text/html": [
       "<div>\n",
       "<style scoped>\n",
       "    .dataframe tbody tr th:only-of-type {\n",
       "        vertical-align: middle;\n",
       "    }\n",
       "\n",
       "    .dataframe tbody tr th {\n",
       "        vertical-align: top;\n",
       "    }\n",
       "\n",
       "    .dataframe thead th {\n",
       "        text-align: right;\n",
       "    }\n",
       "</style>\n",
       "<table border=\"1\" class=\"dataframe\">\n",
       "  <thead>\n",
       "    <tr style=\"text-align: right;\">\n",
       "      <th></th>\n",
       "      <th>Tweet</th>\n",
       "      <th>Type</th>\n",
       "      <th>emoji</th>\n",
       "      <th>Cleaned_Tweet</th>\n",
       "      <th>Translated_Tweets</th>\n",
       "      <th>Cleaned_Tweet_No_Stop_words</th>\n",
       "      <th>repeated</th>\n",
       "    </tr>\n",
       "  </thead>\n",
       "  <tbody>\n",
       "    <tr>\n",
       "      <th>0</th>\n",
       "      <td>السلام عليكم لدي عامل انتهي جواز السفر وتم تجد...</td>\n",
       "      <td>1.0</td>\n",
       "      <td>0</td>\n",
       "      <td>السلام عليكم لدي عامل انتهي جواز السفر وتم تجد...</td>\n",
       "      <td>السلام عليكم لدي عامل انتهي جواز السفر وتم تجد...</td>\n",
       "      <td>السلام عليكم لدي عامل انتهي جواز السفر وتم تجد...</td>\n",
       "      <td>0</td>\n",
       "    </tr>\n",
       "    <tr>\n",
       "      <th>1</th>\n",
       "      <td>سلام عليكم عندي اضافه مولود ولما ادخل ابشر واض...</td>\n",
       "      <td>1.0</td>\n",
       "      <td>0</td>\n",
       "      <td>سلام عليكم عندي اضافه مولود ولما ادخل ابشر واض...</td>\n",
       "      <td>سلام عليكم عندي اضافه مولود ولما ادخل ابشر واض...</td>\n",
       "      <td>سلام عليكم عندي اضافه مولود ولما ادخل ابشر واض...</td>\n",
       "      <td>0</td>\n",
       "    </tr>\n",
       "  </tbody>\n",
       "</table>\n",
       "</div>"
      ],
      "text/plain": [
       "                                               Tweet  Type  emoji  \\\n",
       "0  السلام عليكم لدي عامل انتهي جواز السفر وتم تجد...   1.0      0   \n",
       "1  سلام عليكم عندي اضافه مولود ولما ادخل ابشر واض...   1.0      0   \n",
       "\n",
       "                                       Cleaned_Tweet  \\\n",
       "0  السلام عليكم لدي عامل انتهي جواز السفر وتم تجد...   \n",
       "1  سلام عليكم عندي اضافه مولود ولما ادخل ابشر واض...   \n",
       "\n",
       "                                   Translated_Tweets  \\\n",
       "0  السلام عليكم لدي عامل انتهي جواز السفر وتم تجد...   \n",
       "1  سلام عليكم عندي اضافه مولود ولما ادخل ابشر واض...   \n",
       "\n",
       "                         Cleaned_Tweet_No_Stop_words  repeated  \n",
       "0  السلام عليكم لدي عامل انتهي جواز السفر وتم تجد...         0  \n",
       "1  سلام عليكم عندي اضافه مولود ولما ادخل ابشر واض...         0  "
      ]
     },
     "execution_count": 713,
     "metadata": {},
     "output_type": "execute_result"
    }
   ],
   "source": [
    "df['repeated']=df['Type'].apply(count_repeated)\n",
    "df.head(2)"
   ]
  },
  {
   "cell_type": "markdown",
   "id": "b5d2eaa4",
   "metadata": {},
   "source": [
    "remove NANs"
   ]
  },
  {
   "cell_type": "code",
   "execution_count": 714,
   "id": "3020fd2d",
   "metadata": {},
   "outputs": [],
   "source": [
    "df.Cleaned_Tweet_No_Stop_words.dropna(inplace=True)"
   ]
  },
  {
   "cell_type": "code",
   "execution_count": 715,
   "id": "89c9592b",
   "metadata": {},
   "outputs": [],
   "source": [
    "df.Type.dropna(inplace=True)"
   ]
  },
  {
   "cell_type": "code",
   "execution_count": 730,
   "id": "c9655b36",
   "metadata": {},
   "outputs": [],
   "source": [
    "df.Type.isnull()\n",
    "df= df.drop(df.index[186])"
   ]
  },
  {
   "cell_type": "code",
   "execution_count": 735,
   "id": "cf85d5d3",
   "metadata": {},
   "outputs": [],
   "source": [
    "df= df.drop(df.index[1254])"
   ]
  },
  {
   "cell_type": "code",
   "execution_count": 750,
   "id": "ecdda4cc",
   "metadata": {},
   "outputs": [],
   "source": [
    "#Split the data into X and y data sets\n",
    "X = df['Cleaned_Tweet_No_Stop_words']\n",
    "y = df.Type"
   ]
  },
  {
   "cell_type": "code",
   "execution_count": 751,
   "id": "ef0070fc",
   "metadata": {},
   "outputs": [],
   "source": [
    "# Split the data into training and test sets\n",
    "from sklearn.model_selection import train_test_split\n",
    "X_train, X_test, y_train, y_test = train_test_split(X, y, test_size=0.2, random_state=42)"
   ]
  },
  {
   "cell_type": "code",
   "execution_count": 754,
   "id": "b9265391",
   "metadata": {},
   "outputs": [
    {
     "data": {
      "text/plain": [
       "Index(['ؤتوه', 'اب', 'ابابا', 'ابحث', 'ابد', 'ابدا', 'ابريل', 'ابشر',\n",
       "       'ابشرالتوظيف', 'ابشربعز',\n",
       "       ...\n",
       "       'يوما', 'يوماجتياحالجنوب', 'يومان', 'يومك', 'يومنا', 'يومولم', 'يومي',\n",
       "       'يومين', 'ٱبشر', 'ٱرجو'],\n",
       "      dtype='object', length=5316)"
      ]
     },
     "execution_count": 754,
     "metadata": {},
     "output_type": "execute_result"
    }
   ],
   "source": [
    "#Create TF-IDF versions of the Count Vectorizers created earlier in the exercise\n",
    "from sklearn.feature_extraction.text import TfidfVectorizer\n",
    "\n",
    "tfidf1 = TfidfVectorizer()\n",
    "X_train_tfidf1 = tfidf1.fit_transform(X_train)\n",
    "X_test_tfidf1  = tfidf1.transform(X_test)"
   ]
  },
  {
   "cell_type": "markdown",
   "id": "a0ac17a7",
   "metadata": {},
   "source": [
    "### Baseline model using Logistic Regression"
   ]
  },
  {
   "cell_type": "code",
   "execution_count": 768,
   "id": "f58c3dcf",
   "metadata": {},
   "outputs": [],
   "source": [
    "# Create a logistic regression model to use\n",
    "from sklearn.linear_model import LogisticRegression\n",
    "lr = LogisticRegression(multi_class='multinomial', solver='lbfgs')"
   ]
  },
  {
   "cell_type": "code",
   "execution_count": 769,
   "id": "3a4e9f76",
   "metadata": {},
   "outputs": [],
   "source": [
    "# Train the first model\n",
    "lr.fit(X_train_tfidf1, y_train)\n",
    "y_pred_tfidf1 = lr.predict(X_test_tfidf1)"
   ]
  },
  {
   "cell_type": "code",
   "execution_count": 775,
   "id": "727d2923",
   "metadata": {},
   "outputs": [
    {
     "name": "stdout",
     "output_type": "stream",
     "text": [
      "              precision    recall  f1-score   support\n",
      "\n",
      "         0.0      0.758     0.728     0.743       125\n",
      "         1.0      0.733     0.958     0.830       166\n",
      "         2.0      0.951     0.906     0.928       128\n",
      "         3.0      0.455     0.222     0.299        45\n",
      "         4.0      0.629     0.423     0.506        52\n",
      "\n",
      "    accuracy                          0.771       516\n",
      "   macro avg      0.705     0.647     0.661       516\n",
      "weighted avg      0.758     0.771     0.754       516\n",
      "\n"
     ]
    }
   ],
   "source": [
    "#Print the precision and recall, among other metrics\n",
    "print(metrics.classification_report(y_test, y_pred_tfidf1, digits=3))"
   ]
  },
  {
   "cell_type": "code",
   "execution_count": 200,
   "id": "a70e4d96",
   "metadata": {},
   "outputs": [],
   "source": [
    "# what are the  most common words in each category?"
   ]
  },
  {
   "cell_type": "code",
   "execution_count": 126,
   "id": "888d3d47",
   "metadata": {},
   "outputs": [],
   "source": [
    "#SPacy (most common words in each category) OR TF-IDF"
   ]
  },
  {
   "cell_type": "code",
   "execution_count": 9,
   "id": "0bb21165",
   "metadata": {},
   "outputs": [],
   "source": [
    "#unique words"
   ]
  },
  {
   "cell_type": "code",
   "execution_count": null,
   "id": "a38a6678",
   "metadata": {},
   "outputs": [],
   "source": [
    "#adding scrapped more data"
   ]
  },
  {
   "cell_type": "code",
   "execution_count": 11,
   "id": "a83e0479",
   "metadata": {},
   "outputs": [],
   "source": [
    "#Dimensionality reduction SVM,PCA"
   ]
  },
  {
   "cell_type": "code",
   "execution_count": 4,
   "id": "9c6125e2",
   "metadata": {},
   "outputs": [],
   "source": [
    "#delete arabic stop words(not sure)"
   ]
  },
  {
   "cell_type": "code",
   "execution_count": null,
   "id": "ce1b28e6",
   "metadata": {},
   "outputs": [],
   "source": [
    "#fitting model"
   ]
  },
  {
   "cell_type": "code",
   "execution_count": 5,
   "id": "670b21a0",
   "metadata": {},
   "outputs": [],
   "source": [
    "#CoreEX"
   ]
  },
  {
   "cell_type": "code",
   "execution_count": 6,
   "id": "9047a50e",
   "metadata": {},
   "outputs": [],
   "source": [
    "#Topic Modeling"
   ]
  }
 ],
 "metadata": {
  "kernelspec": {
   "display_name": "Python 3",
   "language": "python",
   "name": "python3"
  },
  "language_info": {
   "codemirror_mode": {
    "name": "ipython",
    "version": 3
   },
   "file_extension": ".py",
   "mimetype": "text/x-python",
   "name": "python",
   "nbconvert_exporter": "python",
   "pygments_lexer": "ipython3",
   "version": "3.8.8"
  }
 },
 "nbformat": 4,
 "nbformat_minor": 5
}
