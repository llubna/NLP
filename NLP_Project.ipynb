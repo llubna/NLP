{
 "cells": [
  {
   "cell_type": "code",
   "execution_count": 116,
   "id": "d4f72143",
   "metadata": {},
   "outputs": [],
   "source": [
    "#!pip install nltk\n",
    "#!pip install emoji\n",
    "#!pip install regex\n",
    "#!pip install advertools\n",
    "#!pip install translate\n",
    "#!pip install textblob\n",
    "#!pip install spacy-langdetect\n",
    "#!pip install langid\n",
    "#!pip install multidict\n",
    "#!pip install yellowbrick"
   ]
  },
  {
   "cell_type": "code",
   "execution_count": 141,
   "id": "c106cbf3",
   "metadata": {},
   "outputs": [
    {
     "name": "stderr",
     "output_type": "stream",
     "text": [
      "[nltk_data] Downloading package punkt to /Users/maha/nltk_data...\n",
      "[nltk_data]   Package punkt is already up-to-date!\n",
      "[nltk_data] Downloading package stopwords to /Users/maha/nltk_data...\n",
      "[nltk_data]   Package stopwords is already up-to-date!\n"
     ]
    }
   ],
   "source": [
    "import pandas as pd\n",
    "import re\n",
    "import string\n",
    "import spacy\n",
    "import camel_tools\n",
    "import nltk\n",
    "nltk.download('punkt')\n",
    "import emoji\n",
    "import regex\n",
    "import advertools as adv\n",
    "import matplotlib.pyplot as plt\n",
    "from nltk.corpus import stopwords\n",
    "nltk.download('stopwords')\n",
    "from sklearn import metrics\n",
    "import seaborn as sns\n",
    "from sklearn.metrics import confusion_matrix\n",
    "from sklearn.decomposition import TruncatedSVD\n",
    "import wordcloud\n",
    "import multidict as multidict\n",
    "import os\n",
    "import arabic_reshaper\n",
    "from bidi.algorithm import get_display"
   ]
  },
  {
   "cell_type": "code",
   "execution_count": 142,
   "id": "76415d70",
   "metadata": {},
   "outputs": [],
   "source": [
    "#helper functions\n",
    "\n",
    "def tokenize_word(text):\n",
    "    \"\"\"\n",
    "    This function separate a sentence into s list of words using nltk library\n",
    "    \"\"\"\n",
    "    \n",
    "    text=str(text)\n",
    "    return nltk.word_tokenize(text)\n",
    "    \n",
    "\n",
    "    \n",
    "def emoji_count(text):\n",
    "    \"\"\"\n",
    "    This funtion counts number of emojies in a text\n",
    "    \"\"\"\n",
    "    \n",
    "    text=[str(text)]\n",
    "    emoji_summary = adv.extract_emoji(text)\n",
    "    return emoji_summary['emoji_counts'][0]\n",
    "\n",
    "\n",
    "\n",
    "\n",
    "def convert_emoji_to_text(text):\n",
    "    \"\"\"\n",
    "    This function converts emojies to texts using demojize \n",
    "    \"\"\"\n",
    "    \n",
    "    text=str(text)\n",
    "    return emoji.demojize(text, delimiters=(\" \", \" \"))\n",
    "\n",
    "\n",
    "\n",
    "\n",
    "def change_emoji_description(mylist):\n",
    "    \"\"\"\n",
    "    This function changes emojies description to one arabic word \"ايموجي\"\n",
    "    \"\"\"\n",
    "    \n",
    "    mylist=mylist.split(' ')\n",
    "    for i,word in enumerate(mylist):\n",
    "        if(any(c.islower() for c in word)):\n",
    "            mylist[i]='ايموجي'\n",
    "    return ' '.join(mylist)\n",
    "\n",
    "\n",
    "\n",
    "def remove_stop_word(mylist):\n",
    "    \"\"\"\n",
    "    This function removes arabic stop words from texts\n",
    "    \"\"\"\n",
    "    \n",
    "    stop_words=stopwords.words('arabic')\n",
    "    mylist=mylist.split(' ')\n",
    "    for i, val in enumerate(mylist):\n",
    "        if(val in stop_words):\n",
    "               mylist.remove(val)\n",
    "    return ' '.join(mylist)\n",
    "\n",
    "\n",
    "\n",
    "def remove_numbers_and_latin_chars(text):\n",
    "    \"\"\"\n",
    "    This function removes any non arabic letters from texts\n",
    "    \"\"\"\n",
    "    \n",
    "    pattern = r'[a-z A-Z 0-9 ﷺ ٠١٢٣٤٥٦٧٨٩ .: ⃣◈!@#\\➘✓ /$%^&*()_+;={,-/|?><~\"}]'\n",
    "    new_text=re.sub(pattern, ' ',  str(text))\n",
    "    return new_text\n",
    "\n",
    "def count_repeated(type):\n",
    "    if(type==4):\n",
    "        return 1\n",
    "    else:\n",
    "        return 0\n",
    "    \n",
    "    \n",
    "def show_confusion_matrix(y_test,y_pred):\n",
    "    confusion = confusion_matrix(y_test, y_pred)\n",
    "    plt.figure(dpi=150)\n",
    "    sns.heatmap(confusion, cmap=plt.cm.Oranges, annot=True, square=True,fmt=\"d\")\n",
    "    plt.xlabel('Predicted Labels')\n",
    "    plt.ylabel('Actual')\n",
    "    plt.title('Confusion Matrix')\n",
    "    plt.show()\n",
    "    \n",
    "def prepare_cloud_word(tokens):\n",
    "    word_cloud_array=[]\n",
    "    for row in df['Tokens']:\n",
    "        for token in row:\n",
    "            if (token != 'ايموجي'):\n",
    "                word_cloud_array.append(token)\n",
    "    return word_cloud_array"
   ]
  },
  {
   "cell_type": "code",
   "execution_count": 143,
   "id": "452f6497",
   "metadata": {},
   "outputs": [],
   "source": [
    "def getFrequencyDictForText(sentence):\n",
    "    fullTermsDict = multidict.MultiDict()\n",
    "    tmpDict = {}\n",
    "\n",
    "    # making dict for counting frequencies\n",
    "    for text in sentence:\n",
    "        val = tmpDict.get(text, 0)\n",
    "        tmpDict[text.lower()] = val + 1\n",
    "    for key in tmpDict:\n",
    "        fullTermsDict.add(key, tmpDict[key])\n",
    "    return fullTermsDict\n",
    "\n",
    "\n",
    "def show_cloud(text):\n",
    "\n",
    "    for word in text:\n",
    "        try:\n",
    "            word = arabic_reshaper.reshape(word)\n",
    "            word = get_display(word)\n",
    "        except:\n",
    "            continue\n",
    "\n",
    "\n",
    "    wc = WordCloud(font_path='fonts/NotoNaskhArabic-Regular.ttf',background_color=\"white\", max_words=1000)\n",
    "    # generate word cloud\n",
    "    wc.generate_from_frequencies(getFrequencyDictForText(text))\n",
    "\n",
    "    # show\n",
    "    plt.imshow(wc, interpolation=\"bilinear\")\n",
    "    plt.axis(\"off\")\n",
    "    plt.show()"
   ]
  },
  {
   "cell_type": "code",
   "execution_count": 144,
   "id": "38dedae6",
   "metadata": {},
   "outputs": [
    {
     "data": {
      "text/html": [
       "<div>\n",
       "<style scoped>\n",
       "    .dataframe tbody tr th:only-of-type {\n",
       "        vertical-align: middle;\n",
       "    }\n",
       "\n",
       "    .dataframe tbody tr th {\n",
       "        vertical-align: top;\n",
       "    }\n",
       "\n",
       "    .dataframe thead th {\n",
       "        text-align: right;\n",
       "    }\n",
       "</style>\n",
       "<table border=\"1\" class=\"dataframe\">\n",
       "  <thead>\n",
       "    <tr style=\"text-align: right;\">\n",
       "      <th></th>\n",
       "      <th>Tweet</th>\n",
       "      <th>Type</th>\n",
       "    </tr>\n",
       "  </thead>\n",
       "  <tbody>\n",
       "    <tr>\n",
       "      <th>0</th>\n",
       "      <td>السلام عليكم لدي عامل انتهي جواز السفر وتم تجد...</td>\n",
       "      <td>1.0</td>\n",
       "    </tr>\n",
       "    <tr>\n",
       "      <th>1</th>\n",
       "      <td>سلام عليكم عندي اضافه مولود ولما ادخل ابشر واض...</td>\n",
       "      <td>1.0</td>\n",
       "    </tr>\n",
       "    <tr>\n",
       "      <th>2</th>\n",
       "      <td>عفوا موقع ابشر لما اضغط ع تسجيل مواليد يقولي ل...</td>\n",
       "      <td>1.0</td>\n",
       "    </tr>\n",
       "  </tbody>\n",
       "</table>\n",
       "</div>"
      ],
      "text/plain": [
       "                                               Tweet  Type\n",
       "0  السلام عليكم لدي عامل انتهي جواز السفر وتم تجد...   1.0\n",
       "1  سلام عليكم عندي اضافه مولود ولما ادخل ابشر واض...   1.0\n",
       "2  عفوا موقع ابشر لما اضغط ع تسجيل مواليد يقولي ل...   1.0"
      ]
     },
     "execution_count": 144,
     "metadata": {},
     "output_type": "execute_result"
    }
   ],
   "source": [
    "df=pd.read_csv(\"Labeled_Tweets.csv\")\n",
    "df.head(3)"
   ]
  },
  {
   "cell_type": "markdown",
   "id": "381ae6f9",
   "metadata": {},
   "source": [
    "## Data to work on consists of tweets which are mentions to @Tawakkalna_Care customer service account on twitter, and a categorization of tweet into 5 types:\n",
    "    \n",
    "    Noise    |  0\n",
    "    Question |  1\n",
    "    Answer   |  2\n",
    "    Comment  |  3\n",
    "    Repeated |  4"
   ]
  },
  {
   "cell_type": "markdown",
   "id": "7c6a0d10",
   "metadata": {},
   "source": [
    "## Distribution of categories (types) as a bar chart"
   ]
  },
  {
   "cell_type": "code",
   "execution_count": 145,
   "id": "713092e7",
   "metadata": {},
   "outputs": [
    {
     "data": {
      "text/plain": [
       "<AxesSubplot:>"
      ]
     },
     "execution_count": 145,
     "metadata": {},
     "output_type": "execute_result"
    },
    {
     "data": {
      "image/png": "[encoded data removed]",
      "text/plain": [
       "<Figure size 576x396 with 1 Axes>"
      ]
     },
     "metadata": {},
     "output_type": "display_data"
    }
   ],
   "source": [
    "df['Type'].hist()"
   ]
  },
  {
   "cell_type": "code",
   "execution_count": 146,
   "id": "3fcabe55",
   "metadata": {},
   "outputs": [
    {
     "data": {
      "text/plain": [
       "1.0    919\n",
       "2.0    632\n",
       "0.0    543\n",
       "4.0    245\n",
       "3.0    238\n",
       "Name: Type, dtype: int64"
      ]
     },
     "execution_count": 146,
     "metadata": {},
     "output_type": "execute_result"
    }
   ],
   "source": [
    "df.Type.value_counts()"
   ]
  },
  {
   "cell_type": "markdown",
   "id": "79dbb4e0",
   "metadata": {},
   "source": [
    "## Distribution of categories (types) as a pie chart "
   ]
  },
  {
   "cell_type": "code",
   "execution_count": 147,
   "id": "7749aa0c",
   "metadata": {},
   "outputs": [
    {
     "data": {
      "image/png": "[encoded data removed]",
      "text/plain": [
       "<Figure size 576x396 with 1 Axes>"
      ]
     },
     "metadata": {},
     "output_type": "display_data"
    }
   ],
   "source": [
    "import matplotlib.pyplot as plt\n",
    "import numpy as np\n",
    "\n",
    "y = np.array(df.Type.value_counts())\n",
    "mylabels = [\"1 | Question\",\"2 | Answer\",\"0 | Noise\", \"4 | Repeated\", \"3 | Comment\"]\n",
    "\n",
    "plt.pie(y, labels=mylabels,startangle = 90,colors=['#FF7518','#191970','#6F8FAF','#50C878','#811331'])\n",
    "#plt.legend()\n",
    "plt.show()"
   ]
  },
  {
   "cell_type": "markdown",
   "id": "cab0b9b2",
   "metadata": {},
   "source": [
    "### Removeing repeated tweets "
   ]
  },
  {
   "cell_type": "code",
   "execution_count": 148,
   "id": "d784daa7",
   "metadata": {},
   "outputs": [],
   "source": [
    "repeated= df[df['Type'] == 4]\n",
    "df=df[df['Type'] != 4]"
   ]
  },
  {
   "cell_type": "markdown",
   "id": "f1c876ff",
   "metadata": {},
   "source": [
    "### count number of emojies in each tweet and store it in a new column "
   ]
  },
  {
   "cell_type": "code",
   "execution_count": 149,
   "id": "d9b5f4a0",
   "metadata": {},
   "outputs": [],
   "source": [
    "df['emoji']=df['Tweet'].apply(emoji_count)"
   ]
  },
  {
   "cell_type": "code",
   "execution_count": 150,
   "id": "b844f342",
   "metadata": {},
   "outputs": [
    {
     "data": {
      "text/plain": [
       "0     1997\n",
       "1      127\n",
       "4       68\n",
       "2       51\n",
       "10      20\n",
       "6       17\n",
       "3       17\n",
       "9       15\n",
       "5        8\n",
       "7        5\n",
       "8        4\n",
       "12       2\n",
       "16       2\n",
       "Name: emoji, dtype: int64"
      ]
     },
     "execution_count": 150,
     "metadata": {},
     "output_type": "execute_result"
    }
   ],
   "source": [
    "df['emoji'].value_counts()"
   ]
  },
  {
   "cell_type": "markdown",
   "id": "7f0a8ab4",
   "metadata": {},
   "source": [
    "### see distrubtion of tweets types having less than two emojie "
   ]
  },
  {
   "cell_type": "code",
   "execution_count": 151,
   "id": "94a9c240",
   "metadata": {},
   "outputs": [
    {
     "data": {
      "text/plain": [
       "1.0    917\n",
       "2.0    631\n",
       "0.0    344\n",
       "3.0    232\n",
       "Name: Type, dtype: int64"
      ]
     },
     "execution_count": 151,
     "metadata": {},
     "output_type": "execute_result"
    }
   ],
   "source": [
    "tweets_without_emoji=df.loc[df['emoji']<2]\n",
    "tweets_without_emoji['Type'].value_counts()"
   ]
  },
  {
   "cell_type": "code",
   "execution_count": 152,
   "id": "2e6b64c6",
   "metadata": {},
   "outputs": [
    {
     "data": {
      "text/plain": [
       "([<matplotlib.axis.XTick at 0x7fb41f1c7370>,\n",
       "  <matplotlib.axis.XTick at 0x7fb41f1c7250>,\n",
       "  <matplotlib.axis.XTick at 0x7fb4136ead30>,\n",
       "  <matplotlib.axis.XTick at 0x7fb41df3b640>,\n",
       "  <matplotlib.axis.XTick at 0x7fb41df3b070>],\n",
       " [Text(0, 0, ''),\n",
       "  Text(0, 0, ''),\n",
       "  Text(0, 0, ''),\n",
       "  Text(0, 0, ''),\n",
       "  Text(0, 0, '')])"
      ]
     },
     "execution_count": 152,
     "metadata": {},
     "output_type": "execute_result"
    },
    {
     "data": {
      "image/png": "[encoded data removed]",
      "text/plain": [
       "<Figure size 576x396 with 1 Axes>"
      ]
     },
     "metadata": {},
     "output_type": "display_data"
    }
   ],
   "source": [
    "plt.hist(tweets_without_emoji['Type'])\n",
    "plt.xlabel('Tweet Type')\n",
    "plt.ylabel('Tweets With One or Zero Emoji')\n",
    "plt.xticks([0,1,2,3,4])"
   ]
  },
  {
   "cell_type": "markdown",
   "id": "001061e4",
   "metadata": {},
   "source": [
    "### see distrubtion of tweets types having 2 emojies or more"
   ]
  },
  {
   "cell_type": "code",
   "execution_count": 153,
   "id": "567a1d80",
   "metadata": {},
   "outputs": [
    {
     "data": {
      "text/plain": [
       "0.0    199\n",
       "3.0      6\n",
       "1.0      2\n",
       "2.0      1\n",
       "Name: Type, dtype: int64"
      ]
     },
     "execution_count": 153,
     "metadata": {},
     "output_type": "execute_result"
    }
   ],
   "source": [
    "tweets_with_emoji=df.loc[df['emoji']>1]\n",
    "tweets_with_emoji['Type'].value_counts()"
   ]
  },
  {
   "cell_type": "code",
   "execution_count": 154,
   "id": "eedccfc2",
   "metadata": {},
   "outputs": [
    {
     "data": {
      "text/plain": [
       "([<matplotlib.axis.XTick at 0x7fb41f438b20>,\n",
       "  <matplotlib.axis.XTick at 0x7fb41f4382b0>,\n",
       "  <matplotlib.axis.XTick at 0x7fb41cf24280>,\n",
       "  <matplotlib.axis.XTick at 0x7fb430edd790>,\n",
       "  <matplotlib.axis.XTick at 0x7fb4321e0ee0>],\n",
       " [Text(0, 0, ''),\n",
       "  Text(0, 0, ''),\n",
       "  Text(0, 0, ''),\n",
       "  Text(0, 0, ''),\n",
       "  Text(0, 0, '')])"
      ]
     },
     "execution_count": 154,
     "metadata": {},
     "output_type": "execute_result"
    },
    {
     "data": {
      "image/png": "[encoded data removed]",
      "text/plain": [
       "<Figure size 576x396 with 1 Axes>"
      ]
     },
     "metadata": {},
     "output_type": "display_data"
    }
   ],
   "source": [
    "plt.hist(tweets_with_emoji['Type'])\n",
    "plt.xlabel('Tweet Type')\n",
    "plt.ylabel('Tweets With More Than One Emoji')\n",
    "plt.xticks([0,1,2,3,4])"
   ]
  },
  {
   "cell_type": "markdown",
   "id": "49d96e0f",
   "metadata": {},
   "source": [
    "### most tweets that have emojis are of category = 1 which is 'noise' so the information of emoji is helpful in classification thus should not be removed, instead we will put the word explaining them"
   ]
  },
  {
   "cell_type": "markdown",
   "id": "8271ddd9",
   "metadata": {},
   "source": [
    "start executing helper functions on tweets to clean them"
   ]
  },
  {
   "cell_type": "code",
   "execution_count": 155,
   "id": "a56a7565",
   "metadata": {},
   "outputs": [],
   "source": [
    "df['Cleaned_Tweet']=df['Tweet'].apply(remove_numbers_and_latin_chars)"
   ]
  },
  {
   "cell_type": "code",
   "execution_count": 156,
   "id": "cefe6b18",
   "metadata": {},
   "outputs": [],
   "source": [
    "df['Cleaned_Tweet']=df['Cleaned_Tweet'].apply(convert_emoji_to_text)"
   ]
  },
  {
   "cell_type": "markdown",
   "id": "c7aaf935",
   "metadata": {},
   "source": [
    "Now we will translate each english word that is result from emoji description to the word \"ايموجي\" "
   ]
  },
  {
   "cell_type": "code",
   "execution_count": 157,
   "id": "2fb3dfec",
   "metadata": {},
   "outputs": [],
   "source": [
    "df['Translated_Tweets']=df['Cleaned_Tweet'].apply(change_emoji_description)"
   ]
  },
  {
   "cell_type": "code",
   "execution_count": 158,
   "id": "44de874f",
   "metadata": {},
   "outputs": [],
   "source": [
    "df['Cleaned_Tweet_No_Stop_words']=df['Translated_Tweets'].apply(remove_stop_word)"
   ]
  },
  {
   "cell_type": "code",
   "execution_count": 159,
   "id": "6c2a3c58",
   "metadata": {},
   "outputs": [
    {
     "data": {
      "text/html": [
       "<div>\n",
       "<style scoped>\n",
       "    .dataframe tbody tr th:only-of-type {\n",
       "        vertical-align: middle;\n",
       "    }\n",
       "\n",
       "    .dataframe tbody tr th {\n",
       "        vertical-align: top;\n",
       "    }\n",
       "\n",
       "    .dataframe thead th {\n",
       "        text-align: right;\n",
       "    }\n",
       "</style>\n",
       "<table border=\"1\" class=\"dataframe\">\n",
       "  <thead>\n",
       "    <tr style=\"text-align: right;\">\n",
       "      <th></th>\n",
       "      <th>Tweet</th>\n",
       "      <th>Type</th>\n",
       "      <th>emoji</th>\n",
       "      <th>Cleaned_Tweet</th>\n",
       "      <th>Translated_Tweets</th>\n",
       "      <th>Cleaned_Tweet_No_Stop_words</th>\n",
       "    </tr>\n",
       "  </thead>\n",
       "  <tbody>\n",
       "    <tr>\n",
       "      <th>0</th>\n",
       "      <td>السلام عليكم لدي عامل انتهي جواز السفر وتم تجد...</td>\n",
       "      <td>1.0</td>\n",
       "      <td>0</td>\n",
       "      <td>السلام عليكم لدي عامل انتهي جواز السفر وتم تجد...</td>\n",
       "      <td>السلام عليكم لدي عامل انتهي جواز السفر وتم تجد...</td>\n",
       "      <td>السلام عليكم لدي عامل انتهي جواز السفر وتم تجد...</td>\n",
       "    </tr>\n",
       "    <tr>\n",
       "      <th>1</th>\n",
       "      <td>سلام عليكم عندي اضافه مولود ولما ادخل ابشر واض...</td>\n",
       "      <td>1.0</td>\n",
       "      <td>0</td>\n",
       "      <td>سلام عليكم عندي اضافه مولود ولما ادخل ابشر واض...</td>\n",
       "      <td>سلام عليكم عندي اضافه مولود ولما ادخل ابشر واض...</td>\n",
       "      <td>سلام عليكم عندي اضافه مولود ولما ادخل ابشر واض...</td>\n",
       "    </tr>\n",
       "  </tbody>\n",
       "</table>\n",
       "</div>"
      ],
      "text/plain": [
       "                                               Tweet  Type  emoji  \\\n",
       "0  السلام عليكم لدي عامل انتهي جواز السفر وتم تجد...   1.0      0   \n",
       "1  سلام عليكم عندي اضافه مولود ولما ادخل ابشر واض...   1.0      0   \n",
       "\n",
       "                                       Cleaned_Tweet  \\\n",
       "0  السلام عليكم لدي عامل انتهي جواز السفر وتم تجد...   \n",
       "1  سلام عليكم عندي اضافه مولود ولما ادخل ابشر واض...   \n",
       "\n",
       "                                   Translated_Tweets  \\\n",
       "0  السلام عليكم لدي عامل انتهي جواز السفر وتم تجد...   \n",
       "1  سلام عليكم عندي اضافه مولود ولما ادخل ابشر واض...   \n",
       "\n",
       "                         Cleaned_Tweet_No_Stop_words  \n",
       "0  السلام عليكم لدي عامل انتهي جواز السفر وتم تجد...  \n",
       "1  سلام عليكم عندي اضافه مولود ولما ادخل ابشر واض...  "
      ]
     },
     "execution_count": 159,
     "metadata": {},
     "output_type": "execute_result"
    }
   ],
   "source": [
    "df.head(2)"
   ]
  },
  {
   "cell_type": "code",
   "execution_count": 160,
   "id": "4d922520",
   "metadata": {},
   "outputs": [
    {
     "data": {
      "text/html": [
       "<div>\n",
       "<style scoped>\n",
       "    .dataframe tbody tr th:only-of-type {\n",
       "        vertical-align: middle;\n",
       "    }\n",
       "\n",
       "    .dataframe tbody tr th {\n",
       "        vertical-align: top;\n",
       "    }\n",
       "\n",
       "    .dataframe thead th {\n",
       "        text-align: right;\n",
       "    }\n",
       "</style>\n",
       "<table border=\"1\" class=\"dataframe\">\n",
       "  <thead>\n",
       "    <tr style=\"text-align: right;\">\n",
       "      <th></th>\n",
       "      <th>Tweet</th>\n",
       "      <th>Type</th>\n",
       "      <th>emoji</th>\n",
       "      <th>Cleaned_Tweet</th>\n",
       "      <th>Translated_Tweets</th>\n",
       "      <th>Cleaned_Tweet_No_Stop_words</th>\n",
       "      <th>Tokens</th>\n",
       "    </tr>\n",
       "  </thead>\n",
       "  <tbody>\n",
       "    <tr>\n",
       "      <th>0</th>\n",
       "      <td>السلام عليكم لدي عامل انتهي جواز السفر وتم تجد...</td>\n",
       "      <td>1.0</td>\n",
       "      <td>0</td>\n",
       "      <td>السلام عليكم لدي عامل انتهي جواز السفر وتم تجد...</td>\n",
       "      <td>السلام عليكم لدي عامل انتهي جواز السفر وتم تجد...</td>\n",
       "      <td>السلام عليكم لدي عامل انتهي جواز السفر وتم تجد...</td>\n",
       "      <td>[السلام, عليكم, لدي, عامل, انتهي, جواز, السفر,...</td>\n",
       "    </tr>\n",
       "    <tr>\n",
       "      <th>1</th>\n",
       "      <td>سلام عليكم عندي اضافه مولود ولما ادخل ابشر واض...</td>\n",
       "      <td>1.0</td>\n",
       "      <td>0</td>\n",
       "      <td>سلام عليكم عندي اضافه مولود ولما ادخل ابشر واض...</td>\n",
       "      <td>سلام عليكم عندي اضافه مولود ولما ادخل ابشر واض...</td>\n",
       "      <td>سلام عليكم عندي اضافه مولود ولما ادخل ابشر واض...</td>\n",
       "      <td>[سلام, عليكم, عندي, اضافه, مولود, ولما, ادخل, ...</td>\n",
       "    </tr>\n",
       "  </tbody>\n",
       "</table>\n",
       "</div>"
      ],
      "text/plain": [
       "                                               Tweet  Type  emoji  \\\n",
       "0  السلام عليكم لدي عامل انتهي جواز السفر وتم تجد...   1.0      0   \n",
       "1  سلام عليكم عندي اضافه مولود ولما ادخل ابشر واض...   1.0      0   \n",
       "\n",
       "                                       Cleaned_Tweet  \\\n",
       "0  السلام عليكم لدي عامل انتهي جواز السفر وتم تجد...   \n",
       "1  سلام عليكم عندي اضافه مولود ولما ادخل ابشر واض...   \n",
       "\n",
       "                                   Translated_Tweets  \\\n",
       "0  السلام عليكم لدي عامل انتهي جواز السفر وتم تجد...   \n",
       "1  سلام عليكم عندي اضافه مولود ولما ادخل ابشر واض...   \n",
       "\n",
       "                         Cleaned_Tweet_No_Stop_words  \\\n",
       "0  السلام عليكم لدي عامل انتهي جواز السفر وتم تجد...   \n",
       "1  سلام عليكم عندي اضافه مولود ولما ادخل ابشر واض...   \n",
       "\n",
       "                                              Tokens  \n",
       "0  [السلام, عليكم, لدي, عامل, انتهي, جواز, السفر,...  \n",
       "1  [سلام, عليكم, عندي, اضافه, مولود, ولما, ادخل, ...  "
      ]
     },
     "execution_count": 160,
     "metadata": {},
     "output_type": "execute_result"
    }
   ],
   "source": [
    "df['Tokens']=df.Cleaned_Tweet_No_Stop_words.apply(tokenize_word)\n",
    "df.head(2)"
   ]
  },
  {
   "cell_type": "markdown",
   "id": "462fc3a9",
   "metadata": {},
   "source": [
    "In below part, if a tweet is repeated(type=4), insert 1 in the 'repeated' column, else insert 0"
   ]
  },
  {
   "cell_type": "markdown",
   "id": "aeda6157",
   "metadata": {},
   "source": [
    "### remove NANs"
   ]
  },
  {
   "cell_type": "code",
   "execution_count": 161,
   "id": "79aa60d0",
   "metadata": {},
   "outputs": [],
   "source": [
    "df.Cleaned_Tweet_No_Stop_words.dropna(inplace=True)"
   ]
  },
  {
   "cell_type": "code",
   "execution_count": 162,
   "id": "d13af42c",
   "metadata": {},
   "outputs": [],
   "source": [
    "df.Type.dropna(inplace=True)"
   ]
  },
  {
   "cell_type": "code",
   "execution_count": 163,
   "id": "506a595c",
   "metadata": {},
   "outputs": [],
   "source": [
    "df=df.loc[df.Type.isnull()==False]\n",
    "df=df.loc[df.Tweet.isnull()==False]"
   ]
  },
  {
   "cell_type": "markdown",
   "id": "bba63ade",
   "metadata": {},
   "source": [
    "### Splitting data into train and test"
   ]
  },
  {
   "cell_type": "code",
   "execution_count": 164,
   "id": "1c44cc63",
   "metadata": {},
   "outputs": [],
   "source": [
    "#Split the data into X and y data sets\n",
    "X = df['Cleaned_Tweet_No_Stop_words']\n",
    "y = df.Type"
   ]
  },
  {
   "cell_type": "code",
   "execution_count": 165,
   "id": "a31f4b02",
   "metadata": {},
   "outputs": [],
   "source": [
    "# Split the data into training and test sets\n",
    "from sklearn.model_selection import train_test_split\n",
    "X_train, X_test, y_train, y_test = train_test_split(X, y, test_size=0.2, random_state=42)"
   ]
  },
  {
   "cell_type": "markdown",
   "id": "58a0144a",
   "metadata": {},
   "source": [
    "## Create TF-IDF of the tweets"
   ]
  },
  {
   "cell_type": "code",
   "execution_count": 166,
   "id": "a26927d3",
   "metadata": {},
   "outputs": [],
   "source": [
    "#Create TF-IDF versions \n",
    "from sklearn.feature_extraction.text import TfidfVectorizer\n",
    "\n",
    "tfidf1 = TfidfVectorizer()\n",
    "X_train_tfidf1 = tfidf1.fit_transform(X_train)#.astype('float16')\n",
    "X_test_tfidf1  = tfidf1.transform(X_test)#.astype('float16')"
   ]
  },
  {
   "cell_type": "markdown",
   "id": "eef09829",
   "metadata": {},
   "source": [
    "## Baseline model using Logistic Regression"
   ]
  },
  {
   "cell_type": "code",
   "execution_count": 167,
   "id": "f6d57fed",
   "metadata": {},
   "outputs": [],
   "source": [
    "# Create a logistic regression model to use\n",
    "from sklearn.linear_model import LogisticRegression\n",
    "lr = LogisticRegression(multi_class='multinomial', solver='lbfgs')"
   ]
  },
  {
   "cell_type": "code",
   "execution_count": 168,
   "id": "23f9b612",
   "metadata": {},
   "outputs": [],
   "source": [
    "# Train the first model\n",
    "lr.fit(X_train_tfidf1, y_train)\n",
    "y_pred_tfidf1_1 = lr.predict(X_test_tfidf1)"
   ]
  },
  {
   "cell_type": "code",
   "execution_count": 169,
   "id": "c6b61411",
   "metadata": {},
   "outputs": [
    {
     "name": "stdout",
     "output_type": "stream",
     "text": [
      "              precision    recall  f1-score   support\n",
      "\n",
      "         0.0      0.932     0.804     0.863       102\n",
      "         1.0      0.756     0.979     0.853       187\n",
      "         2.0      0.968     0.863     0.913       139\n",
      "         3.0      0.462     0.154     0.231        39\n",
      "\n",
      "    accuracy                          0.837       467\n",
      "   macro avg      0.779     0.700     0.715       467\n",
      "weighted avg      0.833     0.837     0.821       467\n",
      "\n"
     ]
    }
   ],
   "source": [
    "#Print the precision and recall, among other metrics\n",
    "print(metrics.classification_report(y_test, y_pred_tfidf1, digits=3))"
   ]
  },
  {
   "cell_type": "code",
   "execution_count": 170,
   "id": "f1ab5391",
   "metadata": {},
   "outputs": [
    {
     "data": {
      "image/png": "[encoded data removed]",
      "text/plain": [
       "<Figure size 1200x825 with 2 Axes>"
      ]
     },
     "metadata": {},
     "output_type": "display_data"
    }
   ],
   "source": [
    "show_confusion_matrix(y_test,y_pred_tfidf1)"
   ]
  },
  {
   "cell_type": "markdown",
   "id": "e4716fc7",
   "metadata": {},
   "source": [
    "### Dimensionality Reducion using SVD"
   ]
  },
  {
   "cell_type": "code",
   "execution_count": 171,
   "id": "ee863799",
   "metadata": {},
   "outputs": [],
   "source": [
    "svd = TruncatedSVD(n_iter=30, n_components=100)\n",
    "#Reduce the dimensions of data from 5000 to 100\n",
    "x_train_SVD = svd.fit_transform(X_train_tfidf1)\n",
    "x_test_SVD = svd.fit_transform(X_test_tfidf1)"
   ]
  },
  {
   "cell_type": "code",
   "execution_count": 172,
   "id": "f3cbbddf",
   "metadata": {},
   "outputs": [],
   "source": [
    "# Train the first model\n",
    "lr.fit(x_train_SVD, y_train)\n",
    "y_pred_tfidf1_SVD = lr.predict(x_test_SVD)"
   ]
  },
  {
   "cell_type": "code",
   "execution_count": 173,
   "id": "5eb80e67",
   "metadata": {},
   "outputs": [
    {
     "name": "stdout",
     "output_type": "stream",
     "text": [
      "              precision    recall  f1-score   support\n",
      "\n",
      "         0.0      0.378     0.608     0.466       102\n",
      "         1.0      0.557     0.578     0.567       187\n",
      "         2.0      0.791     0.381     0.515       139\n",
      "         3.0      0.119     0.128     0.123        39\n",
      "\n",
      "    accuracy                          0.488       467\n",
      "   macro avg      0.461     0.424     0.418       467\n",
      "weighted avg      0.551     0.488     0.492       467\n",
      "\n"
     ]
    }
   ],
   "source": [
    "#Print the precision and recall, among other metrics\n",
    "print(metrics.classification_report(y_test,y_pred_tfidf1_SVD, digits=3))"
   ]
  },
  {
   "cell_type": "markdown",
   "id": "7779535a",
   "metadata": {},
   "source": [
    "## Experiment 2,  Naive Bayes\n"
   ]
  },
  {
   "cell_type": "code",
   "execution_count": 174,
   "id": "76984a2d",
   "metadata": {},
   "outputs": [],
   "source": [
    "from sklearn.naive_bayes import MultinomialNB\n",
    "\n",
    "mnb = MultinomialNB()\n",
    "mnb.fit(X_train_tfidf1, y_train)\n",
    "\n",
    "y_pred_tfidf1_nb = mnb.predict(X_test_tfidf1)"
   ]
  },
  {
   "cell_type": "code",
   "execution_count": 175,
   "id": "50079b01",
   "metadata": {},
   "outputs": [
    {
     "name": "stdout",
     "output_type": "stream",
     "text": [
      "              precision    recall  f1-score   support\n",
      "\n",
      "         0.0      0.953     0.804     0.872       102\n",
      "         1.0      0.763     0.963     0.851       187\n",
      "         2.0      0.901     0.914     0.907       139\n",
      "         3.0      0.500     0.051     0.093        39\n",
      "\n",
      "    accuracy                          0.837       467\n",
      "   macro avg      0.779     0.683     0.681       467\n",
      "weighted avg      0.824     0.837     0.809       467\n",
      "\n"
     ]
    }
   ],
   "source": [
    "#Print the precision and recall, among other metrics\n",
    "print(metrics.classification_report(y_test, y_pred_tfidf1_nb, digits=3))"
   ]
  },
  {
   "cell_type": "markdown",
   "id": "1c4d5610",
   "metadata": {},
   "source": [
    "## Experiment 3,  Random forest \n"
   ]
  },
  {
   "cell_type": "code",
   "execution_count": 176,
   "id": "add5a591",
   "metadata": {},
   "outputs": [],
   "source": [
    "from sklearn.ensemble import RandomForestClassifier\n",
    "rf = RandomForestClassifier(n_estimators=10)\n",
    "rf.fit(X_train_tfidf1, y_train)\n",
    "y_pred_tfidf1_rf = rf.predict(X_test_tfidf1)"
   ]
  },
  {
   "cell_type": "code",
   "execution_count": 177,
   "id": "be3e4af6",
   "metadata": {},
   "outputs": [
    {
     "name": "stdout",
     "output_type": "stream",
     "text": [
      "              precision    recall  f1-score   support\n",
      "\n",
      "         0.0      0.838     0.863     0.850       102\n",
      "         1.0      0.818     0.866     0.842       187\n",
      "         2.0      0.954     0.899     0.926       139\n",
      "         3.0      0.303     0.256     0.278        39\n",
      "\n",
      "    accuracy                          0.824       467\n",
      "   macro avg      0.728     0.721     0.724       467\n",
      "weighted avg      0.820     0.824     0.821       467\n",
      "\n"
     ]
    }
   ],
   "source": [
    "#Print the precision and recall, among other metrics\n",
    "print(metrics.classification_report(y_test, y_pred_tfidf1_rf, digits=3))"
   ]
  },
  {
   "cell_type": "markdown",
   "id": "fd40682f",
   "metadata": {},
   "source": [
    "## Experiment 4, XGboost"
   ]
  },
  {
   "cell_type": "code",
   "execution_count": 178,
   "id": "ce639653",
   "metadata": {},
   "outputs": [
    {
     "name": "stdout",
     "output_type": "stream",
     "text": [
      "[13:34:14] WARNING: /Users/travis/build/dmlc/xgboost/src/learner.cc:1095: Starting in XGBoost 1.3.0, the default evaluation metric used with the objective 'multi:softprob' was changed from 'merror' to 'mlogloss'. Explicitly set eval_metric if you'd like to restore the old behavior.\n"
     ]
    },
    {
     "name": "stderr",
     "output_type": "stream",
     "text": [
      "/Users/maha/opt/anaconda3/lib/python3.8/site-packages/xgboost/sklearn.py:1146: UserWarning: The use of label encoder in XGBClassifier is deprecated and will be removed in a future release. To remove this warning, do the following: 1) Pass option use_label_encoder=False when constructing XGBClassifier object; and 2) Encode your labels (y) as integers starting with 0, i.e. 0, 1, 2, ..., [num_class - 1].\n",
      "  warnings.warn(label_encoder_deprecation_msg, UserWarning)\n"
     ]
    }
   ],
   "source": [
    "from xgboost import XGBClassifier\n",
    "\n",
    "xgb = XGBClassifier()\n",
    "xgb.fit(X_train_tfidf1, y_train)\n",
    "y_pred_tfidf1_xgb = xgb.predict(X_test_tfidf1)"
   ]
  },
  {
   "cell_type": "code",
   "execution_count": 179,
   "id": "72d97eb7",
   "metadata": {},
   "outputs": [
    {
     "name": "stdout",
     "output_type": "stream",
     "text": [
      "              precision    recall  f1-score   support\n",
      "\n",
      "         0.0      0.944     0.824     0.880       102\n",
      "         1.0      0.853     0.872     0.862       187\n",
      "         2.0      0.940     0.899     0.919       139\n",
      "         3.0      0.389     0.538     0.452        39\n",
      "\n",
      "    accuracy                          0.842       467\n",
      "   macro avg      0.781     0.783     0.778       467\n",
      "weighted avg      0.860     0.842     0.849       467\n",
      "\n"
     ]
    }
   ],
   "source": [
    "#Print the precision and recall, among other metrics\n",
    "print(metrics.classification_report(y_test, y_pred_tfidf1_xgb, digits=3))"
   ]
  },
  {
   "cell_type": "markdown",
   "id": "c80194d5",
   "metadata": {},
   "source": [
    "## Experiment 5,  Neural Networks "
   ]
  },
  {
   "cell_type": "code",
   "execution_count": 180,
   "id": "67db4d92",
   "metadata": {},
   "outputs": [],
   "source": [
    "X_train_tfidf1_array=X_train_tfidf1.toarray()\n",
    "X_test_tfidf1_array=X_test_tfidf1.toarray()"
   ]
  },
  {
   "cell_type": "code",
   "execution_count": 181,
   "id": "9a0d9db7",
   "metadata": {},
   "outputs": [],
   "source": [
    "from keras.layers import Dense\n",
    "from keras.wrappers.scikit_learn import KerasClassifier\n",
    "from keras.models import Sequential\n"
   ]
  },
  {
   "cell_type": "code",
   "execution_count": 182,
   "id": "5df21751",
   "metadata": {},
   "outputs": [
    {
     "name": "stdout",
     "output_type": "stream",
     "text": [
      "Model: \"sequential_6\"\n",
      "_________________________________________________________________\n",
      " Layer (type)                Output Shape              Param #   \n",
      "=================================================================\n",
      " dense_12 (Dense)            (None, 16)                83632     \n",
      "                                                                 \n",
      " dense_13 (Dense)            (None, 4)                 68        \n",
      "                                                                 \n",
      "=================================================================\n",
      "Total params: 83,700\n",
      "Trainable params: 83,700\n",
      "Non-trainable params: 0\n",
      "_________________________________________________________________\n"
     ]
    }
   ],
   "source": [
    "# build a model\n",
    "X=X_train_tfidf1_array\n",
    "\n",
    "model = Sequential()\n",
    "model.add(Dense(units=16, input_shape=(X.shape[1],), activation='relu')) # input shape is (features,)\n",
    "model.add(Dense(units=4, activation='sigmoid'))\n",
    "model.summary()\n",
    "\n",
    "# compile the model\n",
    "model.compile(optimizer='nadam', \n",
    "              loss='sparse_categorical_crossentropy', # this is different instead of binary_crossentropy (for regular classification)\n",
    "              metrics=['accuracy'])"
   ]
  },
  {
   "cell_type": "code",
   "execution_count": 183,
   "id": "5d21b2fd",
   "metadata": {},
   "outputs": [
    {
     "name": "stdout",
     "output_type": "stream",
     "text": [
      "Epoch 1/8000\n",
      "75/75 [==============================] - 1s 7ms/step - loss: 1.2912 - accuracy: 0.6720 - val_loss: 1.1486 - val_accuracy: 0.7802\n",
      "Epoch 2/8000\n",
      "75/75 [==============================] - 0s 4ms/step - loss: 0.9757 - accuracy: 0.8209 - val_loss: 0.8558 - val_accuracy: 0.8016\n",
      "Epoch 3/8000\n",
      "75/75 [==============================] - 1s 7ms/step - loss: 0.6917 - accuracy: 0.8417 - val_loss: 0.6694 - val_accuracy: 0.8150\n",
      "Epoch 4/8000\n",
      "75/75 [==============================] - 0s 3ms/step - loss: 0.5162 - accuracy: 0.8578 - val_loss: 0.5691 - val_accuracy: 0.8257\n",
      "Epoch 5/8000\n",
      "75/75 [==============================] - 1s 8ms/step - loss: 0.4084 - accuracy: 0.8692 - val_loss: 0.5132 - val_accuracy: 0.8284\n",
      "Epoch 6/8000\n",
      "75/75 [==============================] - 1s 7ms/step - loss: 0.3338 - accuracy: 0.8840 - val_loss: 0.4769 - val_accuracy: 0.8391\n",
      "Epoch 7/8000\n",
      "75/75 [==============================] - 1s 7ms/step - loss: 0.2768 - accuracy: 0.9162 - val_loss: 0.4537 - val_accuracy: 0.8418\n",
      "Epoch 8/8000\n",
      "75/75 [==============================] - 1s 8ms/step - loss: 0.2316 - accuracy: 0.9457 - val_loss: 0.4377 - val_accuracy: 0.8418\n",
      "Epoch 9/8000\n",
      "75/75 [==============================] - 0s 6ms/step - loss: 0.1953 - accuracy: 0.9638 - val_loss: 0.4280 - val_accuracy: 0.8445\n",
      "Epoch 10/8000\n",
      "75/75 [==============================] - 1s 16ms/step - loss: 0.1663 - accuracy: 0.9691 - val_loss: 0.4213 - val_accuracy: 0.8552\n",
      "Epoch 11/8000\n",
      "75/75 [==============================] - 0s 7ms/step - loss: 0.1431 - accuracy: 0.9772 - val_loss: 0.4174 - val_accuracy: 0.8552\n",
      "Epoch 12/8000\n",
      "75/75 [==============================] - 1s 8ms/step - loss: 0.1248 - accuracy: 0.9812 - val_loss: 0.4148 - val_accuracy: 0.8499\n",
      "Epoch 13/8000\n",
      "75/75 [==============================] - 0s 6ms/step - loss: 0.1095 - accuracy: 0.9839 - val_loss: 0.4137 - val_accuracy: 0.8525\n",
      "Epoch 14/8000\n",
      "75/75 [==============================] - 0s 5ms/step - loss: 0.0974 - accuracy: 0.9859 - val_loss: 0.4138 - val_accuracy: 0.8579\n",
      "Epoch 15/8000\n",
      "75/75 [==============================] - 0s 6ms/step - loss: 0.0874 - accuracy: 0.9859 - val_loss: 0.4149 - val_accuracy: 0.8552\n",
      "Epoch 16/8000\n",
      "75/75 [==============================] - 0s 6ms/step - loss: 0.0791 - accuracy: 0.9886 - val_loss: 0.4159 - val_accuracy: 0.8579\n",
      "Epoch 17/8000\n",
      "75/75 [==============================] - 1s 10ms/step - loss: 0.0721 - accuracy: 0.9873 - val_loss: 0.4164 - val_accuracy: 0.8606\n",
      "Epoch 18/8000\n",
      "75/75 [==============================] - 0s 5ms/step - loss: 0.0663 - accuracy: 0.9879 - val_loss: 0.4191 - val_accuracy: 0.8606\n",
      "Epoch 19/8000\n",
      "75/75 [==============================] - 0s 4ms/step - loss: 0.0612 - accuracy: 0.9893 - val_loss: 0.4213 - val_accuracy: 0.8579\n",
      "Epoch 20/8000\n",
      "75/75 [==============================] - 1s 9ms/step - loss: 0.0571 - accuracy: 0.9893 - val_loss: 0.4226 - val_accuracy: 0.8579\n",
      "Epoch 21/8000\n",
      "75/75 [==============================] - 1s 11ms/step - loss: 0.0533 - accuracy: 0.9899 - val_loss: 0.4267 - val_accuracy: 0.8606\n",
      "Epoch 22/8000\n",
      "75/75 [==============================] - 1s 7ms/step - loss: 0.0500 - accuracy: 0.9899 - val_loss: 0.4282 - val_accuracy: 0.8552\n",
      "Epoch 23/8000\n",
      "75/75 [==============================] - 0s 4ms/step - loss: 0.0473 - accuracy: 0.9899 - val_loss: 0.4329 - val_accuracy: 0.8552\n"
     ]
    }
   ],
   "source": [
    "import keras\n",
    "from keras.callbacks import EarlyStopping\n",
    "\n",
    "# early stopping callback\n",
    "# This callback will stop the training when there is no improvement in  \n",
    "# the validation loss for 10 consecutive epochs.  \n",
    "es = keras.callbacks.EarlyStopping(monitor='val_loss', \n",
    "                                   mode='min',\n",
    "                                   patience=10, \n",
    "                                   restore_best_weights=True) # important - otherwise you just return the last weigths...\n",
    "\n",
    "# now we just update our model fit call\n",
    "history = model.fit(X,\n",
    "                    y_train,\n",
    "                    callbacks=[es],\n",
    "                    epochs=8000, # you can set this to a big number!\n",
    "                    batch_size=20,\n",
    "                    shuffle=True,\n",
    "                    validation_split=0.2,\n",
    "                    verbose=1)"
   ]
  },
  {
   "cell_type": "code",
   "execution_count": 184,
   "id": "cb9b4a28",
   "metadata": {},
   "outputs": [
    {
     "data": {
      "image/png": "[encoded data removed]",
      "text/plain": [
       "<Figure size 576x396 with 1 Axes>"
      ]
     },
     "metadata": {},
     "output_type": "display_data"
    }
   ],
   "source": [
    "history_dict = history.history\n",
    "\n",
    "# learning curve\n",
    "# accuracy\n",
    "acc = history_dict['accuracy']\n",
    "val_acc = history_dict['val_accuracy']\n",
    "\n",
    "# loss\n",
    "loss = history_dict['loss']\n",
    "val_loss = history_dict['val_loss']\n",
    "\n",
    "# range of X (no. of epochs)\n",
    "epochs = range(1, len(acc) + 1)\n",
    "\n",
    "# plot\n",
    "# \"r\" is for \"solid red line\"\n",
    "plt.plot(epochs, acc, 'r', label='Training accuracy')\n",
    "# b is for \"solid blue line\"\n",
    "plt.plot(epochs, val_acc, 'b', label='Validation accuracy')\n",
    "plt.title('Training and validation accuracy')\n",
    "plt.xlabel('Epochs')\n",
    "plt.ylabel('Accuracy')\n",
    "plt.legend()\n",
    "\n",
    "plt.show()"
   ]
  },
  {
   "cell_type": "code",
   "execution_count": 185,
   "id": "e1a94576",
   "metadata": {},
   "outputs": [
    {
     "name": "stdout",
     "output_type": "stream",
     "text": [
      "          --------Training Performance---------\n",
      "\n",
      "              precision    recall  f1-score   support\n",
      "\n",
      "         0.0       0.99      0.96      0.98       440\n",
      "         1.0       0.95      0.98      0.97       732\n",
      "         2.0       0.98      0.97      0.97       493\n",
      "         3.0       0.88      0.85      0.86       199\n",
      "\n",
      "    accuracy                           0.96      1864\n",
      "   macro avg       0.95      0.94      0.95      1864\n",
      "weighted avg       0.96      0.96      0.96      1864\n",
      "\n"
     ]
    }
   ],
   "source": [
    "from sklearn.metrics import confusion_matrix\n",
    "from sklearn.metrics import classification_report\n",
    "\n",
    "preds = model.predict(X) \n",
    "\n",
    "matrix = confusion_matrix(y_train, preds.argmax(axis=1))\n",
    "print('          --------Training Performance---------\\n')\n",
    "print(classification_report(y_train, preds.argmax(axis=1)))"
   ]
  },
  {
   "cell_type": "code",
   "execution_count": 186,
   "id": "4fa918f4",
   "metadata": {},
   "outputs": [
    {
     "name": "stdout",
     "output_type": "stream",
     "text": [
      "          --------Validating Performance---------\n",
      "\n",
      "              precision    recall  f1-score   support\n",
      "\n",
      "         0.0       0.95      0.81      0.88       102\n",
      "         1.0       0.81      0.96      0.88       187\n",
      "         2.0       0.96      0.89      0.93       139\n",
      "         3.0       0.59      0.44      0.50        39\n",
      "\n",
      "    accuracy                           0.87       467\n",
      "   macro avg       0.83      0.78      0.80       467\n",
      "weighted avg       0.87      0.87      0.86       467\n",
      "\n"
     ]
    }
   ],
   "source": [
    "from sklearn.metrics import confusion_matrix\n",
    "from sklearn.metrics import classification_report\n",
    "\n",
    "preds_NT = model.predict(X_test_tfidf1_array)\n",
    "\n",
    "\n",
    "matrix = confusion_matrix(y_test, preds_NT.argmax(axis=1))\n",
    "print('          --------Validating Performance---------\\n')\n",
    "print(classification_report(y_test, preds_NT.argmax(axis=1)))"
   ]
  },
  {
   "cell_type": "code",
   "execution_count": 187,
   "id": "16e36e76",
   "metadata": {},
   "outputs": [
    {
     "data": {
      "image/png": "[encoded data removed]",
      "text/plain": [
       "<Figure size 1200x825 with 2 Axes>"
      ]
     },
     "metadata": {},
     "output_type": "display_data"
    }
   ],
   "source": [
    "show_confusion_matrix(y_test,preds_NT.argmax(axis=1))"
   ]
  }
 ],
 "metadata": {
  "kernelspec": {
   "display_name": "Python 3",
   "language": "python",
   "name": "python3"
  },
  "language_info": {
   "codemirror_mode": {
    "name": "ipython",
    "version": 3
   },
   "file_extension": ".py",
   "mimetype": "text/x-python",
   "name": "python",
   "nbconvert_exporter": "python",
   "pygments_lexer": "ipython3",
   "version": "3.8.8"
  }
 },
 "nbformat": 4,
 "nbformat_minor": 5
}
