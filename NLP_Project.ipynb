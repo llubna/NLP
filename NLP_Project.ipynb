{
 "cells": [
  {
   "cell_type": "code",
   "execution_count": 72,
   "id": "15f3193a",
   "metadata": {},
   "outputs": [],
   "source": [
    "#!pip install camel-tools\n",
    "#!pip install nltk\n",
    "#!pip install emoji\n",
    "#!pip install regex\n",
    "#!pip install advertools\n",
    "#!pip install translate\n",
    "#!pip install textblob\n",
    "#!pip install spacy-langdetect\n",
    "#!pip install langid"
   ]
  },
  {
   "cell_type": "code",
   "execution_count": 108,
   "id": "f17258e2",
   "metadata": {},
   "outputs": [
    {
     "name": "stderr",
     "output_type": "stream",
     "text": [
      "[nltk_data] Downloading package punkt to /Users/maha/nltk_data...\n",
      "[nltk_data]   Package punkt is already up-to-date!\n"
     ]
    }
   ],
   "source": [
    "import pandas as pd\n",
    "import re\n",
    "import string\n",
    "import spacy\n",
    "import camel_tools\n",
    "import nltk\n",
    "nltk.download('punkt')\n",
    "import emoji\n",
    "import regex\n",
    "import advertools as adv\n",
    "import matplotlib.pyplot as plt\n",
    "import spacy\n",
    "from spacy_langdetect import LanguageDetector\n",
    "from langdetect import detect"
   ]
  },
  {
   "cell_type": "code",
   "execution_count": 109,
   "id": "76415d70",
   "metadata": {},
   "outputs": [],
   "source": [
    "#helper functions\n",
    "\n",
    "def tokenize_word(text):\n",
    "    text=str(text)\n",
    "    return nltk.word_tokenize(text)\n",
    "    \n",
    "    \n",
    "def emoji_count(text):\n",
    "    text=[str(text)]\n",
    "    emoji_summary = adv.extract_emoji(text)\n",
    "    return emoji_summary['emoji_counts'][0]\n",
    "\n",
    "\n",
    "\n",
    "def convert_emoji_to_text(text):\n",
    "    text=str(text)\n",
    "    return emoji.demojize(text, delimiters=(\" \", \" \"))\n",
    "\n",
    "\n",
    "\n",
    "def change_emoji_description(mylist):\n",
    "    translator= Translator(from_lang=\"english\",to_lang=\"arabic\")\n",
    "    for i in range(len(mylist)):\n",
    "        if(langid.classify(mylist[i])[0]=='en'):\n",
    "            mylist[i]='ايموجي'\n",
    "    return mylist"
   ]
  },
  {
   "cell_type": "code",
   "execution_count": 110,
   "id": "c6a8b213",
   "metadata": {},
   "outputs": [
    {
     "data": {
      "text/html": [
       "<div>\n",
       "<style scoped>\n",
       "    .dataframe tbody tr th:only-of-type {\n",
       "        vertical-align: middle;\n",
       "    }\n",
       "\n",
       "    .dataframe tbody tr th {\n",
       "        vertical-align: top;\n",
       "    }\n",
       "\n",
       "    .dataframe thead th {\n",
       "        text-align: right;\n",
       "    }\n",
       "</style>\n",
       "<table border=\"1\" class=\"dataframe\">\n",
       "  <thead>\n",
       "    <tr style=\"text-align: right;\">\n",
       "      <th></th>\n",
       "      <th>Tweet</th>\n",
       "      <th>Type</th>\n",
       "    </tr>\n",
       "  </thead>\n",
       "  <tbody>\n",
       "    <tr>\n",
       "      <th>0</th>\n",
       "      <td>السلام عليكم لدي عامل انتهي جواز السفر وتم تجد...</td>\n",
       "      <td>1.0</td>\n",
       "    </tr>\n",
       "    <tr>\n",
       "      <th>1</th>\n",
       "      <td>سلام عليكم عندي اضافه مولود ولما ادخل ابشر واض...</td>\n",
       "      <td>1.0</td>\n",
       "    </tr>\n",
       "    <tr>\n",
       "      <th>2</th>\n",
       "      <td>عفوا موقع ابشر لما اضغط ع تسجيل مواليد يقولي ل...</td>\n",
       "      <td>1.0</td>\n",
       "    </tr>\n",
       "  </tbody>\n",
       "</table>\n",
       "</div>"
      ],
      "text/plain": [
       "                                               Tweet  Type\n",
       "0  السلام عليكم لدي عامل انتهي جواز السفر وتم تجد...   1.0\n",
       "1  سلام عليكم عندي اضافه مولود ولما ادخل ابشر واض...   1.0\n",
       "2  عفوا موقع ابشر لما اضغط ع تسجيل مواليد يقولي ل...   1.0"
      ]
     },
     "execution_count": 110,
     "metadata": {},
     "output_type": "execute_result"
    }
   ],
   "source": [
    "df=pd.read_csv(\"NLP_data.csv\")\n",
    "df.head(3)"
   ]
  },
  {
   "cell_type": "code",
   "execution_count": 111,
   "id": "3151ebaf",
   "metadata": {},
   "outputs": [
    {
     "data": {
      "text/plain": [
       "<AxesSubplot:>"
      ]
     },
     "execution_count": 111,
     "metadata": {},
     "output_type": "execute_result"
    },
    {
     "data": {
      "image/png": "[encoded data removed]",
      "text/plain": [
       "<Figure size 432x288 with 1 Axes>"
      ]
     },
     "metadata": {
      "needs_background": "light"
     },
     "output_type": "display_data"
    }
   ],
   "source": [
    "df['Type'].hist()"
   ]
  },
  {
   "cell_type": "code",
   "execution_count": 112,
   "id": "26e71d6f",
   "metadata": {},
   "outputs": [],
   "source": [
    "df['emoji']=df['Tweet'].apply(emoji_count)"
   ]
  },
  {
   "cell_type": "code",
   "execution_count": 113,
   "id": "014b23ff",
   "metadata": {},
   "outputs": [
    {
     "data": {
      "text/plain": [
       "0     2132\n",
       "1      131\n",
       "4       97\n",
       "2       94\n",
       "10      31\n",
       "6       25\n",
       "3       25\n",
       "9       21\n",
       "5        8\n",
       "8        5\n",
       "7        5\n",
       "12       2\n",
       "16       2\n",
       "Name: emoji, dtype: int64"
      ]
     },
     "execution_count": 113,
     "metadata": {},
     "output_type": "execute_result"
    }
   ],
   "source": [
    "df['emoji'].value_counts()"
   ]
  },
  {
   "cell_type": "code",
   "execution_count": 114,
   "id": "9c660cec",
   "metadata": {},
   "outputs": [
    {
     "data": {
      "text/plain": [
       "1.0    917\n",
       "2.0    631\n",
       "0.0    344\n",
       "3.0    232\n",
       "4.0    139\n",
       "Name: Type, dtype: int64"
      ]
     },
     "execution_count": 114,
     "metadata": {},
     "output_type": "execute_result"
    }
   ],
   "source": [
    "tweets_without_emoji=df.loc[df['emoji']<2]\n",
    "tweets_without_emoji['Type'].value_counts()"
   ]
  },
  {
   "cell_type": "code",
   "execution_count": 115,
   "id": "16b78dc0",
   "metadata": {},
   "outputs": [
    {
     "data": {
      "text/plain": [
       "([<matplotlib.axis.XTick at 0x7fca7c114700>,\n",
       "  <matplotlib.axis.XTick at 0x7fca7c1146a0>,\n",
       "  <matplotlib.axis.XTick at 0x7fca7ff08ca0>,\n",
       "  <matplotlib.axis.XTick at 0x7fca7f365c40>,\n",
       "  <matplotlib.axis.XTick at 0x7fca7f3703d0>],\n",
       " [Text(0, 0, ''),\n",
       "  Text(0, 0, ''),\n",
       "  Text(0, 0, ''),\n",
       "  Text(0, 0, ''),\n",
       "  Text(0, 0, '')])"
      ]
     },
     "execution_count": 115,
     "metadata": {},
     "output_type": "execute_result"
    },
    {
     "data": {
      "image/png": "[encoded data removed]",
      "text/plain": [
       "<Figure size 432x288 with 1 Axes>"
      ]
     },
     "metadata": {
      "needs_background": "light"
     },
     "output_type": "display_data"
    }
   ],
   "source": [
    "plt.hist(tweets_without_emoji['Type'])\n",
    "plt.xlabel('Tweet Type')\n",
    "plt.ylabel('Tweets With One or Zero Emoji')\n",
    "plt.xticks([0,1,2,3,4])"
   ]
  },
  {
   "cell_type": "code",
   "execution_count": 116,
   "id": "95a3ae59",
   "metadata": {},
   "outputs": [
    {
     "data": {
      "text/plain": [
       "0.0    199\n",
       "4.0    106\n",
       "3.0      6\n",
       "1.0      2\n",
       "2.0      1\n",
       "Name: Type, dtype: int64"
      ]
     },
     "execution_count": 116,
     "metadata": {},
     "output_type": "execute_result"
    }
   ],
   "source": [
    "tweets_with_emoji=df.loc[df['emoji']>1]\n",
    "tweets_with_emoji['Type'].value_counts()"
   ]
  },
  {
   "cell_type": "code",
   "execution_count": 117,
   "id": "6cfb1b3f",
   "metadata": {},
   "outputs": [
    {
     "data": {
      "text/plain": [
       "([<matplotlib.axis.XTick at 0x7fca7f393f40>,\n",
       "  <matplotlib.axis.XTick at 0x7fca7f393f10>,\n",
       "  <matplotlib.axis.XTick at 0x7fca7f3935e0>,\n",
       "  <matplotlib.axis.XTick at 0x7fca7e478f10>,\n",
       "  <matplotlib.axis.XTick at 0x7fca7e4866a0>],\n",
       " [Text(0, 0, ''),\n",
       "  Text(0, 0, ''),\n",
       "  Text(0, 0, ''),\n",
       "  Text(0, 0, ''),\n",
       "  Text(0, 0, '')])"
      ]
     },
     "execution_count": 117,
     "metadata": {},
     "output_type": "execute_result"
    },
    {
     "data": {
      "image/png": "[encoded data removed]",
      "text/plain": [
       "<Figure size 432x288 with 1 Axes>"
      ]
     },
     "metadata": {
      "needs_background": "light"
     },
     "output_type": "display_data"
    }
   ],
   "source": [
    "plt.hist(tweets_with_emoji['Type'])\n",
    "plt.xlabel('Tweet Type')\n",
    "plt.ylabel('Tweets With More Than One Emoji')\n",
    "plt.xticks([0,1,2,3,4])"
   ]
  },
  {
   "cell_type": "markdown",
   "id": "f5cd3ac5",
   "metadata": {},
   "source": [
    "most tweets that have emojis are of category = 1 which is 'noise' so the information of emoji is helpful in classification thus should not be removed, instead we will put the word explaining them"
   ]
  },
  {
   "cell_type": "code",
   "execution_count": 118,
   "id": "89f16beb",
   "metadata": {},
   "outputs": [],
   "source": [
    "df['Cleaned_Tweet']=df['Tweet'].apply(convert_emoji_to_text)"
   ]
  },
  {
   "cell_type": "code",
   "execution_count": 119,
   "id": "21431a31",
   "metadata": {},
   "outputs": [],
   "source": [
    "df['Tokens']=df['Cleaned_Tweet'].apply(tokenize_word)"
   ]
  },
  {
   "cell_type": "markdown",
   "id": "b032997d",
   "metadata": {},
   "source": [
    "#### EDA"
   ]
  },
  {
   "cell_type": "code",
   "execution_count": 120,
   "id": "c8615ed3",
   "metadata": {},
   "outputs": [
    {
     "data": {
      "text/html": [
       "<div>\n",
       "<style scoped>\n",
       "    .dataframe tbody tr th:only-of-type {\n",
       "        vertical-align: middle;\n",
       "    }\n",
       "\n",
       "    .dataframe tbody tr th {\n",
       "        vertical-align: top;\n",
       "    }\n",
       "\n",
       "    .dataframe thead th {\n",
       "        text-align: right;\n",
       "    }\n",
       "</style>\n",
       "<table border=\"1\" class=\"dataframe\">\n",
       "  <thead>\n",
       "    <tr style=\"text-align: right;\">\n",
       "      <th></th>\n",
       "      <th>Tweet</th>\n",
       "      <th>Type</th>\n",
       "      <th>emoji</th>\n",
       "      <th>Cleaned_Tweet</th>\n",
       "      <th>Tokens</th>\n",
       "    </tr>\n",
       "  </thead>\n",
       "  <tbody>\n",
       "    <tr>\n",
       "      <th>0</th>\n",
       "      <td>السلام عليكم لدي عامل انتهي جواز السفر وتم تجد...</td>\n",
       "      <td>1.0</td>\n",
       "      <td>0</td>\n",
       "      <td>السلام عليكم لدي عامل انتهي جواز السفر وتم تجد...</td>\n",
       "      <td>[السلام, عليكم, لدي, عامل, انتهي, جواز, السفر,...</td>\n",
       "    </tr>\n",
       "    <tr>\n",
       "      <th>1</th>\n",
       "      <td>سلام عليكم عندي اضافه مولود ولما ادخل ابشر واض...</td>\n",
       "      <td>1.0</td>\n",
       "      <td>0</td>\n",
       "      <td>سلام عليكم عندي اضافه مولود ولما ادخل ابشر واض...</td>\n",
       "      <td>[سلام, عليكم, عندي, اضافه, مولود, ولما, ادخل, ...</td>\n",
       "    </tr>\n",
       "  </tbody>\n",
       "</table>\n",
       "</div>"
      ],
      "text/plain": [
       "                                               Tweet  Type  emoji  \\\n",
       "0  السلام عليكم لدي عامل انتهي جواز السفر وتم تجد...   1.0      0   \n",
       "1  سلام عليكم عندي اضافه مولود ولما ادخل ابشر واض...   1.0      0   \n",
       "\n",
       "                                       Cleaned_Tweet  \\\n",
       "0  السلام عليكم لدي عامل انتهي جواز السفر وتم تجد...   \n",
       "1  سلام عليكم عندي اضافه مولود ولما ادخل ابشر واض...   \n",
       "\n",
       "                                              Tokens  \n",
       "0  [السلام, عليكم, لدي, عامل, انتهي, جواز, السفر,...  \n",
       "1  [سلام, عليكم, عندي, اضافه, مولود, ولما, ادخل, ...  "
      ]
     },
     "execution_count": 120,
     "metadata": {},
     "output_type": "execute_result"
    }
   ],
   "source": [
    "df.head(2)"
   ]
  },
  {
   "cell_type": "markdown",
   "id": "6ae743c0",
   "metadata": {},
   "source": [
    "Now we will translate each english word that is result from emoji description to arabic "
   ]
  },
  {
   "cell_type": "code",
   "execution_count": 121,
   "id": "501dd707",
   "metadata": {},
   "outputs": [],
   "source": [
    "df['Translated_Tokens']=df['Tokens'].apply(change_emoji_description)"
   ]
  },
  {
   "cell_type": "code",
   "execution_count": 124,
   "id": "c54b4ce2",
   "metadata": {},
   "outputs": [
    {
     "data": {
      "text/html": [
       "<div>\n",
       "<style scoped>\n",
       "    .dataframe tbody tr th:only-of-type {\n",
       "        vertical-align: middle;\n",
       "    }\n",
       "\n",
       "    .dataframe tbody tr th {\n",
       "        vertical-align: top;\n",
       "    }\n",
       "\n",
       "    .dataframe thead th {\n",
       "        text-align: right;\n",
       "    }\n",
       "</style>\n",
       "<table border=\"1\" class=\"dataframe\">\n",
       "  <thead>\n",
       "    <tr style=\"text-align: right;\">\n",
       "      <th></th>\n",
       "      <th>Tweet</th>\n",
       "      <th>Type</th>\n",
       "      <th>emoji</th>\n",
       "      <th>Cleaned_Tweet</th>\n",
       "      <th>Tokens</th>\n",
       "      <th>Translated_Tokens</th>\n",
       "    </tr>\n",
       "  </thead>\n",
       "  <tbody>\n",
       "    <tr>\n",
       "      <th>0</th>\n",
       "      <td>السلام عليكم لدي عامل انتهي جواز السفر وتم تجد...</td>\n",
       "      <td>1.0</td>\n",
       "      <td>0</td>\n",
       "      <td>السلام عليكم لدي عامل انتهي جواز السفر وتم تجد...</td>\n",
       "      <td>[السلام, عليكم, لدي, عامل, انتهي, جواز, السفر,...</td>\n",
       "      <td>[السلام, عليكم, لدي, عامل, انتهي, جواز, السفر,...</td>\n",
       "    </tr>\n",
       "    <tr>\n",
       "      <th>1</th>\n",
       "      <td>سلام عليكم عندي اضافه مولود ولما ادخل ابشر واض...</td>\n",
       "      <td>1.0</td>\n",
       "      <td>0</td>\n",
       "      <td>سلام عليكم عندي اضافه مولود ولما ادخل ابشر واض...</td>\n",
       "      <td>[سلام, عليكم, عندي, اضافه, مولود, ولما, ادخل, ...</td>\n",
       "      <td>[سلام, عليكم, عندي, اضافه, مولود, ولما, ادخل, ...</td>\n",
       "    </tr>\n",
       "  </tbody>\n",
       "</table>\n",
       "</div>"
      ],
      "text/plain": [
       "                                               Tweet  Type  emoji  \\\n",
       "0  السلام عليكم لدي عامل انتهي جواز السفر وتم تجد...   1.0      0   \n",
       "1  سلام عليكم عندي اضافه مولود ولما ادخل ابشر واض...   1.0      0   \n",
       "\n",
       "                                       Cleaned_Tweet  \\\n",
       "0  السلام عليكم لدي عامل انتهي جواز السفر وتم تجد...   \n",
       "1  سلام عليكم عندي اضافه مولود ولما ادخل ابشر واض...   \n",
       "\n",
       "                                              Tokens  \\\n",
       "0  [السلام, عليكم, لدي, عامل, انتهي, جواز, السفر,...   \n",
       "1  [سلام, عليكم, عندي, اضافه, مولود, ولما, ادخل, ...   \n",
       "\n",
       "                                   Translated_Tokens  \n",
       "0  [السلام, عليكم, لدي, عامل, انتهي, جواز, السفر,...  \n",
       "1  [سلام, عليكم, عندي, اضافه, مولود, ولما, ادخل, ...  "
      ]
     },
     "execution_count": 124,
     "metadata": {},
     "output_type": "execute_result"
    }
   ],
   "source": [
    "df.head(2)"
   ]
  },
  {
   "cell_type": "code",
   "execution_count": 90,
   "id": "ce6e44ed",
   "metadata": {},
   "outputs": [],
   "source": [
    "# what are the  most common words in each category?"
   ]
  },
  {
   "cell_type": "code",
   "execution_count": 8,
   "id": "96c8dcae",
   "metadata": {},
   "outputs": [],
   "source": [
    "#SPacy (most common words in each category)"
   ]
  },
  {
   "cell_type": "code",
   "execution_count": 9,
   "id": "b2566e5f",
   "metadata": {},
   "outputs": [],
   "source": [
    "#unique words"
   ]
  },
  {
   "cell_type": "code",
   "execution_count": null,
   "id": "a38a6678",
   "metadata": {},
   "outputs": [],
   "source": [
    "#adding scrapped more data"
   ]
  },
  {
   "cell_type": "code",
   "execution_count": 11,
   "id": "5fc00126",
   "metadata": {},
   "outputs": [],
   "source": [
    "#Dimensionality reduction SVM,PCA"
   ]
  },
  {
   "cell_type": "code",
   "execution_count": 4,
   "id": "9c6125e2",
   "metadata": {},
   "outputs": [],
   "source": [
    "#delete arabic stop words(not sure)"
   ]
  },
  {
   "cell_type": "code",
   "execution_count": null,
   "id": "ce1b28e6",
   "metadata": {},
   "outputs": [],
   "source": [
    "#fitting model"
   ]
  },
  {
   "cell_type": "code",
   "execution_count": 5,
   "id": "670b21a0",
   "metadata": {},
   "outputs": [],
   "source": [
    "#CoreEX"
   ]
  },
  {
   "cell_type": "code",
   "execution_count": 6,
   "id": "9047a50e",
   "metadata": {},
   "outputs": [],
   "source": [
    "#Topic Modeling"
   ]
  },
  {
   "cell_type": "code",
   "execution_count": null,
   "id": "292cd8f5",
   "metadata": {},
   "outputs": [],
   "source": []
  }
 ],
 "metadata": {
  "kernelspec": {
   "display_name": "Python 3",
   "language": "python",
   "name": "python3"
  },
  "language_info": {
   "codemirror_mode": {
    "name": "ipython",
    "version": 3
   },
   "file_extension": ".py",
   "mimetype": "text/x-python",
   "name": "python",
   "nbconvert_exporter": "python",
   "pygments_lexer": "ipython3",
   "version": "3.8.8"
  }
 },
 "nbformat": 4,
 "nbformat_minor": 5
}
